{
  "nbformat": 4,
  "nbformat_minor": 0,
  "metadata": {
    "colab": {
      "provenance": [],
      "authorship_tag": "ABX9TyNdbdM7ksTgQ3YOT9zI0T3N",
      "include_colab_link": true
    },
    "kernelspec": {
      "name": "python3",
      "display_name": "Python 3"
    },
    "language_info": {
      "name": "python"
    }
  },
  "cells": [
    {
      "cell_type": "markdown",
      "metadata": {
        "id": "view-in-github",
        "colab_type": "text"
      },
      "source": [
        "<a href=\"https://colab.research.google.com/github/Nandhana1334/Stock-Market-Prediction-/blob/main/stock.ipynb\" target=\"_parent\"><img src=\"https://colab.research.google.com/assets/colab-badge.svg\" alt=\"Open In Colab\"/></a>"
      ]
    },
    {
      "cell_type": "code",
      "execution_count": 1,
      "metadata": {
        "id": "JmW1nGgOME-x"
      },
      "outputs": [],
      "source": [
        "### Data Collection\n",
        "import pandas_datareader as pdr\n",
        "key=\"77f0b527402fee7d0e60a415eca7bb3004181f3f\""
      ]
    },
    {
      "cell_type": "code",
      "source": [
        "df = pdr.get_data_tiingo('AAPL', api_key=key)\n"
      ],
      "metadata": {
        "colab": {
          "base_uri": "https://localhost:8080/"
        },
        "id": "J3PK96E1MGX9",
        "outputId": "5d8fcd39-b330-4d9b-b7e6-f027c9d542ee"
      },
      "execution_count": 2,
      "outputs": [
        {
          "output_type": "stream",
          "name": "stderr",
          "text": [
            "<ipython-input-2-08157bf6935e>:1: FutureWarning: In a future version of pandas all arguments of concat except for the argument 'objs' will be keyword-only.\n",
            "  df = pdr.get_data_tiingo('AAPL', api_key=key)\n"
          ]
        }
      ]
    },
    {
      "cell_type": "code",
      "source": [
        "df.to_csv('AAPL.csv')"
      ],
      "metadata": {
        "id": "--DUWbcoMIYU"
      },
      "execution_count": 3,
      "outputs": []
    },
    {
      "cell_type": "code",
      "source": [
        "import pandas as pd"
      ],
      "metadata": {
        "id": "tjYdfIpzMKRx"
      },
      "execution_count": 4,
      "outputs": []
    },
    {
      "cell_type": "code",
      "source": [
        "df=pd.read_csv('AAPL.csv')"
      ],
      "metadata": {
        "id": "yf7oD8EUMLqB"
      },
      "execution_count": 5,
      "outputs": []
    },
    {
      "cell_type": "code",
      "source": [
        "df.head()"
      ],
      "metadata": {
        "colab": {
          "base_uri": "https://localhost:8080/",
          "height": 206
        },
        "id": "tIdjquOzMOrH",
        "outputId": "384f0d9d-46f8-4c6c-ef3c-846e288a3caf"
      },
      "execution_count": 6,
      "outputs": [
        {
          "output_type": "execute_result",
          "data": {
            "text/plain": [
              "  symbol                       date   close    high     low    open    volume  \\\n",
              "0   AAPL  2018-06-26 00:00:00+00:00  184.43  186.53  182.54  182.99  24569201   \n",
              "1   AAPL  2018-06-27 00:00:00+00:00  184.16  187.28  184.03  185.23  25285328   \n",
              "2   AAPL  2018-06-28 00:00:00+00:00  185.50  186.21  183.80  184.10  17365235   \n",
              "3   AAPL  2018-06-29 00:00:00+00:00  185.11  187.19  182.91  186.29  22737666   \n",
              "4   AAPL  2018-07-02 00:00:00+00:00  187.18  187.30  183.42  183.82  17731343   \n",
              "\n",
              "    adjClose    adjHigh     adjLow    adjOpen  adjVolume  divCash  splitFactor  \n",
              "0  44.060086  44.561773  43.608567  43.716072   98276804      0.0          1.0  \n",
              "1  43.995583  44.740947  43.964526  44.251205  101141312      0.0          1.0  \n",
              "2  44.315707  44.485326  43.909580  43.981249   69460940      0.0          1.0  \n",
              "3  44.222537  44.719446  43.696960  44.504437   90950664      0.0          1.0  \n",
              "4  44.717057  44.745725  43.818798  43.914358   70925372      0.0          1.0  "
            ],
            "text/html": [
              "\n",
              "  <div id=\"df-c2d69a01-f0e1-4508-8681-4bad86d4f0c1\">\n",
              "    <div class=\"colab-df-container\">\n",
              "      <div>\n",
              "<style scoped>\n",
              "    .dataframe tbody tr th:only-of-type {\n",
              "        vertical-align: middle;\n",
              "    }\n",
              "\n",
              "    .dataframe tbody tr th {\n",
              "        vertical-align: top;\n",
              "    }\n",
              "\n",
              "    .dataframe thead th {\n",
              "        text-align: right;\n",
              "    }\n",
              "</style>\n",
              "<table border=\"1\" class=\"dataframe\">\n",
              "  <thead>\n",
              "    <tr style=\"text-align: right;\">\n",
              "      <th></th>\n",
              "      <th>symbol</th>\n",
              "      <th>date</th>\n",
              "      <th>close</th>\n",
              "      <th>high</th>\n",
              "      <th>low</th>\n",
              "      <th>open</th>\n",
              "      <th>volume</th>\n",
              "      <th>adjClose</th>\n",
              "      <th>adjHigh</th>\n",
              "      <th>adjLow</th>\n",
              "      <th>adjOpen</th>\n",
              "      <th>adjVolume</th>\n",
              "      <th>divCash</th>\n",
              "      <th>splitFactor</th>\n",
              "    </tr>\n",
              "  </thead>\n",
              "  <tbody>\n",
              "    <tr>\n",
              "      <th>0</th>\n",
              "      <td>AAPL</td>\n",
              "      <td>2018-06-26 00:00:00+00:00</td>\n",
              "      <td>184.43</td>\n",
              "      <td>186.53</td>\n",
              "      <td>182.54</td>\n",
              "      <td>182.99</td>\n",
              "      <td>24569201</td>\n",
              "      <td>44.060086</td>\n",
              "      <td>44.561773</td>\n",
              "      <td>43.608567</td>\n",
              "      <td>43.716072</td>\n",
              "      <td>98276804</td>\n",
              "      <td>0.0</td>\n",
              "      <td>1.0</td>\n",
              "    </tr>\n",
              "    <tr>\n",
              "      <th>1</th>\n",
              "      <td>AAPL</td>\n",
              "      <td>2018-06-27 00:00:00+00:00</td>\n",
              "      <td>184.16</td>\n",
              "      <td>187.28</td>\n",
              "      <td>184.03</td>\n",
              "      <td>185.23</td>\n",
              "      <td>25285328</td>\n",
              "      <td>43.995583</td>\n",
              "      <td>44.740947</td>\n",
              "      <td>43.964526</td>\n",
              "      <td>44.251205</td>\n",
              "      <td>101141312</td>\n",
              "      <td>0.0</td>\n",
              "      <td>1.0</td>\n",
              "    </tr>\n",
              "    <tr>\n",
              "      <th>2</th>\n",
              "      <td>AAPL</td>\n",
              "      <td>2018-06-28 00:00:00+00:00</td>\n",
              "      <td>185.50</td>\n",
              "      <td>186.21</td>\n",
              "      <td>183.80</td>\n",
              "      <td>184.10</td>\n",
              "      <td>17365235</td>\n",
              "      <td>44.315707</td>\n",
              "      <td>44.485326</td>\n",
              "      <td>43.909580</td>\n",
              "      <td>43.981249</td>\n",
              "      <td>69460940</td>\n",
              "      <td>0.0</td>\n",
              "      <td>1.0</td>\n",
              "    </tr>\n",
              "    <tr>\n",
              "      <th>3</th>\n",
              "      <td>AAPL</td>\n",
              "      <td>2018-06-29 00:00:00+00:00</td>\n",
              "      <td>185.11</td>\n",
              "      <td>187.19</td>\n",
              "      <td>182.91</td>\n",
              "      <td>186.29</td>\n",
              "      <td>22737666</td>\n",
              "      <td>44.222537</td>\n",
              "      <td>44.719446</td>\n",
              "      <td>43.696960</td>\n",
              "      <td>44.504437</td>\n",
              "      <td>90950664</td>\n",
              "      <td>0.0</td>\n",
              "      <td>1.0</td>\n",
              "    </tr>\n",
              "    <tr>\n",
              "      <th>4</th>\n",
              "      <td>AAPL</td>\n",
              "      <td>2018-07-02 00:00:00+00:00</td>\n",
              "      <td>187.18</td>\n",
              "      <td>187.30</td>\n",
              "      <td>183.42</td>\n",
              "      <td>183.82</td>\n",
              "      <td>17731343</td>\n",
              "      <td>44.717057</td>\n",
              "      <td>44.745725</td>\n",
              "      <td>43.818798</td>\n",
              "      <td>43.914358</td>\n",
              "      <td>70925372</td>\n",
              "      <td>0.0</td>\n",
              "      <td>1.0</td>\n",
              "    </tr>\n",
              "  </tbody>\n",
              "</table>\n",
              "</div>\n",
              "      <button class=\"colab-df-convert\" onclick=\"convertToInteractive('df-c2d69a01-f0e1-4508-8681-4bad86d4f0c1')\"\n",
              "              title=\"Convert this dataframe to an interactive table.\"\n",
              "              style=\"display:none;\">\n",
              "        \n",
              "  <svg xmlns=\"http://www.w3.org/2000/svg\" height=\"24px\"viewBox=\"0 0 24 24\"\n",
              "       width=\"24px\">\n",
              "    <path d=\"M0 0h24v24H0V0z\" fill=\"none\"/>\n",
              "    <path d=\"M18.56 5.44l.94 2.06.94-2.06 2.06-.94-2.06-.94-.94-2.06-.94 2.06-2.06.94zm-11 1L8.5 8.5l.94-2.06 2.06-.94-2.06-.94L8.5 2.5l-.94 2.06-2.06.94zm10 10l.94 2.06.94-2.06 2.06-.94-2.06-.94-.94-2.06-.94 2.06-2.06.94z\"/><path d=\"M17.41 7.96l-1.37-1.37c-.4-.4-.92-.59-1.43-.59-.52 0-1.04.2-1.43.59L10.3 9.45l-7.72 7.72c-.78.78-.78 2.05 0 2.83L4 21.41c.39.39.9.59 1.41.59.51 0 1.02-.2 1.41-.59l7.78-7.78 2.81-2.81c.8-.78.8-2.07 0-2.86zM5.41 20L4 18.59l7.72-7.72 1.47 1.35L5.41 20z\"/>\n",
              "  </svg>\n",
              "      </button>\n",
              "      \n",
              "  <style>\n",
              "    .colab-df-container {\n",
              "      display:flex;\n",
              "      flex-wrap:wrap;\n",
              "      gap: 12px;\n",
              "    }\n",
              "\n",
              "    .colab-df-convert {\n",
              "      background-color: #E8F0FE;\n",
              "      border: none;\n",
              "      border-radius: 50%;\n",
              "      cursor: pointer;\n",
              "      display: none;\n",
              "      fill: #1967D2;\n",
              "      height: 32px;\n",
              "      padding: 0 0 0 0;\n",
              "      width: 32px;\n",
              "    }\n",
              "\n",
              "    .colab-df-convert:hover {\n",
              "      background-color: #E2EBFA;\n",
              "      box-shadow: 0px 1px 2px rgba(60, 64, 67, 0.3), 0px 1px 3px 1px rgba(60, 64, 67, 0.15);\n",
              "      fill: #174EA6;\n",
              "    }\n",
              "\n",
              "    [theme=dark] .colab-df-convert {\n",
              "      background-color: #3B4455;\n",
              "      fill: #D2E3FC;\n",
              "    }\n",
              "\n",
              "    [theme=dark] .colab-df-convert:hover {\n",
              "      background-color: #434B5C;\n",
              "      box-shadow: 0px 1px 3px 1px rgba(0, 0, 0, 0.15);\n",
              "      filter: drop-shadow(0px 1px 2px rgba(0, 0, 0, 0.3));\n",
              "      fill: #FFFFFF;\n",
              "    }\n",
              "  </style>\n",
              "\n",
              "      <script>\n",
              "        const buttonEl =\n",
              "          document.querySelector('#df-c2d69a01-f0e1-4508-8681-4bad86d4f0c1 button.colab-df-convert');\n",
              "        buttonEl.style.display =\n",
              "          google.colab.kernel.accessAllowed ? 'block' : 'none';\n",
              "\n",
              "        async function convertToInteractive(key) {\n",
              "          const element = document.querySelector('#df-c2d69a01-f0e1-4508-8681-4bad86d4f0c1');\n",
              "          const dataTable =\n",
              "            await google.colab.kernel.invokeFunction('convertToInteractive',\n",
              "                                                     [key], {});\n",
              "          if (!dataTable) return;\n",
              "\n",
              "          const docLinkHtml = 'Like what you see? Visit the ' +\n",
              "            '<a target=\"_blank\" href=https://colab.research.google.com/notebooks/data_table.ipynb>data table notebook</a>'\n",
              "            + ' to learn more about interactive tables.';\n",
              "          element.innerHTML = '';\n",
              "          dataTable['output_type'] = 'display_data';\n",
              "          await google.colab.output.renderOutput(dataTable, element);\n",
              "          const docLink = document.createElement('div');\n",
              "          docLink.innerHTML = docLinkHtml;\n",
              "          element.appendChild(docLink);\n",
              "        }\n",
              "      </script>\n",
              "    </div>\n",
              "  </div>\n",
              "  "
            ]
          },
          "metadata": {},
          "execution_count": 6
        }
      ]
    },
    {
      "cell_type": "code",
      "source": [
        "df.tail()"
      ],
      "metadata": {
        "colab": {
          "base_uri": "https://localhost:8080/",
          "height": 206
        },
        "id": "aWR_HNIcMP69",
        "outputId": "e6700196-8995-4411-e435-f616c1976a87"
      },
      "execution_count": 7,
      "outputs": [
        {
          "output_type": "execute_result",
          "data": {
            "text/plain": [
              "     symbol                       date   close     high       low    open  \\\n",
              "1252   AAPL  2023-06-16 00:00:00+00:00  184.92  186.990  184.2700  186.73   \n",
              "1253   AAPL  2023-06-20 00:00:00+00:00  185.01  186.100  184.4100  184.41   \n",
              "1254   AAPL  2023-06-21 00:00:00+00:00  183.96  185.410  182.5901  184.90   \n",
              "1255   AAPL  2023-06-22 00:00:00+00:00  187.00  187.045  183.6700  183.74   \n",
              "1256   AAPL  2023-06-23 00:00:00+00:00  186.68  187.560  185.0100  185.55   \n",
              "\n",
              "         volume  adjClose  adjHigh    adjLow  adjOpen  adjVolume  divCash  \\\n",
              "1252  101256225    184.92  186.990  184.2700   186.73  101256225      0.0   \n",
              "1253   49799092    185.01  186.100  184.4100   184.41   49799092      0.0   \n",
              "1254   49515697    183.96  185.410  182.5901   184.90   49515697      0.0   \n",
              "1255   51245327    187.00  187.045  183.6700   183.74   51245327      0.0   \n",
              "1256   53116996    186.68  187.560  185.0100   185.55   53116996      0.0   \n",
              "\n",
              "      splitFactor  \n",
              "1252          1.0  \n",
              "1253          1.0  \n",
              "1254          1.0  \n",
              "1255          1.0  \n",
              "1256          1.0  "
            ],
            "text/html": [
              "\n",
              "  <div id=\"df-33951f11-7319-4622-9e92-4b6f486b1e72\">\n",
              "    <div class=\"colab-df-container\">\n",
              "      <div>\n",
              "<style scoped>\n",
              "    .dataframe tbody tr th:only-of-type {\n",
              "        vertical-align: middle;\n",
              "    }\n",
              "\n",
              "    .dataframe tbody tr th {\n",
              "        vertical-align: top;\n",
              "    }\n",
              "\n",
              "    .dataframe thead th {\n",
              "        text-align: right;\n",
              "    }\n",
              "</style>\n",
              "<table border=\"1\" class=\"dataframe\">\n",
              "  <thead>\n",
              "    <tr style=\"text-align: right;\">\n",
              "      <th></th>\n",
              "      <th>symbol</th>\n",
              "      <th>date</th>\n",
              "      <th>close</th>\n",
              "      <th>high</th>\n",
              "      <th>low</th>\n",
              "      <th>open</th>\n",
              "      <th>volume</th>\n",
              "      <th>adjClose</th>\n",
              "      <th>adjHigh</th>\n",
              "      <th>adjLow</th>\n",
              "      <th>adjOpen</th>\n",
              "      <th>adjVolume</th>\n",
              "      <th>divCash</th>\n",
              "      <th>splitFactor</th>\n",
              "    </tr>\n",
              "  </thead>\n",
              "  <tbody>\n",
              "    <tr>\n",
              "      <th>1252</th>\n",
              "      <td>AAPL</td>\n",
              "      <td>2023-06-16 00:00:00+00:00</td>\n",
              "      <td>184.92</td>\n",
              "      <td>186.990</td>\n",
              "      <td>184.2700</td>\n",
              "      <td>186.73</td>\n",
              "      <td>101256225</td>\n",
              "      <td>184.92</td>\n",
              "      <td>186.990</td>\n",
              "      <td>184.2700</td>\n",
              "      <td>186.73</td>\n",
              "      <td>101256225</td>\n",
              "      <td>0.0</td>\n",
              "      <td>1.0</td>\n",
              "    </tr>\n",
              "    <tr>\n",
              "      <th>1253</th>\n",
              "      <td>AAPL</td>\n",
              "      <td>2023-06-20 00:00:00+00:00</td>\n",
              "      <td>185.01</td>\n",
              "      <td>186.100</td>\n",
              "      <td>184.4100</td>\n",
              "      <td>184.41</td>\n",
              "      <td>49799092</td>\n",
              "      <td>185.01</td>\n",
              "      <td>186.100</td>\n",
              "      <td>184.4100</td>\n",
              "      <td>184.41</td>\n",
              "      <td>49799092</td>\n",
              "      <td>0.0</td>\n",
              "      <td>1.0</td>\n",
              "    </tr>\n",
              "    <tr>\n",
              "      <th>1254</th>\n",
              "      <td>AAPL</td>\n",
              "      <td>2023-06-21 00:00:00+00:00</td>\n",
              "      <td>183.96</td>\n",
              "      <td>185.410</td>\n",
              "      <td>182.5901</td>\n",
              "      <td>184.90</td>\n",
              "      <td>49515697</td>\n",
              "      <td>183.96</td>\n",
              "      <td>185.410</td>\n",
              "      <td>182.5901</td>\n",
              "      <td>184.90</td>\n",
              "      <td>49515697</td>\n",
              "      <td>0.0</td>\n",
              "      <td>1.0</td>\n",
              "    </tr>\n",
              "    <tr>\n",
              "      <th>1255</th>\n",
              "      <td>AAPL</td>\n",
              "      <td>2023-06-22 00:00:00+00:00</td>\n",
              "      <td>187.00</td>\n",
              "      <td>187.045</td>\n",
              "      <td>183.6700</td>\n",
              "      <td>183.74</td>\n",
              "      <td>51245327</td>\n",
              "      <td>187.00</td>\n",
              "      <td>187.045</td>\n",
              "      <td>183.6700</td>\n",
              "      <td>183.74</td>\n",
              "      <td>51245327</td>\n",
              "      <td>0.0</td>\n",
              "      <td>1.0</td>\n",
              "    </tr>\n",
              "    <tr>\n",
              "      <th>1256</th>\n",
              "      <td>AAPL</td>\n",
              "      <td>2023-06-23 00:00:00+00:00</td>\n",
              "      <td>186.68</td>\n",
              "      <td>187.560</td>\n",
              "      <td>185.0100</td>\n",
              "      <td>185.55</td>\n",
              "      <td>53116996</td>\n",
              "      <td>186.68</td>\n",
              "      <td>187.560</td>\n",
              "      <td>185.0100</td>\n",
              "      <td>185.55</td>\n",
              "      <td>53116996</td>\n",
              "      <td>0.0</td>\n",
              "      <td>1.0</td>\n",
              "    </tr>\n",
              "  </tbody>\n",
              "</table>\n",
              "</div>\n",
              "      <button class=\"colab-df-convert\" onclick=\"convertToInteractive('df-33951f11-7319-4622-9e92-4b6f486b1e72')\"\n",
              "              title=\"Convert this dataframe to an interactive table.\"\n",
              "              style=\"display:none;\">\n",
              "        \n",
              "  <svg xmlns=\"http://www.w3.org/2000/svg\" height=\"24px\"viewBox=\"0 0 24 24\"\n",
              "       width=\"24px\">\n",
              "    <path d=\"M0 0h24v24H0V0z\" fill=\"none\"/>\n",
              "    <path d=\"M18.56 5.44l.94 2.06.94-2.06 2.06-.94-2.06-.94-.94-2.06-.94 2.06-2.06.94zm-11 1L8.5 8.5l.94-2.06 2.06-.94-2.06-.94L8.5 2.5l-.94 2.06-2.06.94zm10 10l.94 2.06.94-2.06 2.06-.94-2.06-.94-.94-2.06-.94 2.06-2.06.94z\"/><path d=\"M17.41 7.96l-1.37-1.37c-.4-.4-.92-.59-1.43-.59-.52 0-1.04.2-1.43.59L10.3 9.45l-7.72 7.72c-.78.78-.78 2.05 0 2.83L4 21.41c.39.39.9.59 1.41.59.51 0 1.02-.2 1.41-.59l7.78-7.78 2.81-2.81c.8-.78.8-2.07 0-2.86zM5.41 20L4 18.59l7.72-7.72 1.47 1.35L5.41 20z\"/>\n",
              "  </svg>\n",
              "      </button>\n",
              "      \n",
              "  <style>\n",
              "    .colab-df-container {\n",
              "      display:flex;\n",
              "      flex-wrap:wrap;\n",
              "      gap: 12px;\n",
              "    }\n",
              "\n",
              "    .colab-df-convert {\n",
              "      background-color: #E8F0FE;\n",
              "      border: none;\n",
              "      border-radius: 50%;\n",
              "      cursor: pointer;\n",
              "      display: none;\n",
              "      fill: #1967D2;\n",
              "      height: 32px;\n",
              "      padding: 0 0 0 0;\n",
              "      width: 32px;\n",
              "    }\n",
              "\n",
              "    .colab-df-convert:hover {\n",
              "      background-color: #E2EBFA;\n",
              "      box-shadow: 0px 1px 2px rgba(60, 64, 67, 0.3), 0px 1px 3px 1px rgba(60, 64, 67, 0.15);\n",
              "      fill: #174EA6;\n",
              "    }\n",
              "\n",
              "    [theme=dark] .colab-df-convert {\n",
              "      background-color: #3B4455;\n",
              "      fill: #D2E3FC;\n",
              "    }\n",
              "\n",
              "    [theme=dark] .colab-df-convert:hover {\n",
              "      background-color: #434B5C;\n",
              "      box-shadow: 0px 1px 3px 1px rgba(0, 0, 0, 0.15);\n",
              "      filter: drop-shadow(0px 1px 2px rgba(0, 0, 0, 0.3));\n",
              "      fill: #FFFFFF;\n",
              "    }\n",
              "  </style>\n",
              "\n",
              "      <script>\n",
              "        const buttonEl =\n",
              "          document.querySelector('#df-33951f11-7319-4622-9e92-4b6f486b1e72 button.colab-df-convert');\n",
              "        buttonEl.style.display =\n",
              "          google.colab.kernel.accessAllowed ? 'block' : 'none';\n",
              "\n",
              "        async function convertToInteractive(key) {\n",
              "          const element = document.querySelector('#df-33951f11-7319-4622-9e92-4b6f486b1e72');\n",
              "          const dataTable =\n",
              "            await google.colab.kernel.invokeFunction('convertToInteractive',\n",
              "                                                     [key], {});\n",
              "          if (!dataTable) return;\n",
              "\n",
              "          const docLinkHtml = 'Like what you see? Visit the ' +\n",
              "            '<a target=\"_blank\" href=https://colab.research.google.com/notebooks/data_table.ipynb>data table notebook</a>'\n",
              "            + ' to learn more about interactive tables.';\n",
              "          element.innerHTML = '';\n",
              "          dataTable['output_type'] = 'display_data';\n",
              "          await google.colab.output.renderOutput(dataTable, element);\n",
              "          const docLink = document.createElement('div');\n",
              "          docLink.innerHTML = docLinkHtml;\n",
              "          element.appendChild(docLink);\n",
              "        }\n",
              "      </script>\n",
              "    </div>\n",
              "  </div>\n",
              "  "
            ]
          },
          "metadata": {},
          "execution_count": 7
        }
      ]
    },
    {
      "cell_type": "code",
      "source": [
        "df1=df.reset_index()['close']"
      ],
      "metadata": {
        "id": "m_dKNZnyMSGD"
      },
      "execution_count": 8,
      "outputs": []
    },
    {
      "cell_type": "code",
      "source": [
        "df1"
      ],
      "metadata": {
        "colab": {
          "base_uri": "https://localhost:8080/"
        },
        "id": "VAfgUnhYMTmB",
        "outputId": "c97b04df-262d-48e6-df05-516c1c7718ba"
      },
      "execution_count": 9,
      "outputs": [
        {
          "output_type": "execute_result",
          "data": {
            "text/plain": [
              "0       184.43\n",
              "1       184.16\n",
              "2       185.50\n",
              "3       185.11\n",
              "4       187.18\n",
              "         ...  \n",
              "1252    184.92\n",
              "1253    185.01\n",
              "1254    183.96\n",
              "1255    187.00\n",
              "1256    186.68\n",
              "Name: close, Length: 1257, dtype: float64"
            ]
          },
          "metadata": {},
          "execution_count": 9
        }
      ]
    },
    {
      "cell_type": "code",
      "source": [
        "import matplotlib.pyplot as plt\n",
        "plt.plot(df1)"
      ],
      "metadata": {
        "colab": {
          "base_uri": "https://localhost:8080/",
          "height": 447
        },
        "id": "62xqo4bfMW-_",
        "outputId": "895f568c-a902-49fb-d107-6bb1d44178b1"
      },
      "execution_count": 10,
      "outputs": [
        {
          "output_type": "execute_result",
          "data": {
            "text/plain": [
              "[<matplotlib.lines.Line2D at 0x7fc20111ef20>]"
            ]
          },
          "metadata": {},
          "execution_count": 10
        },
        {
          "output_type": "display_data",
          "data": {
            "text/plain": [
              "<Figure size 640x480 with 1 Axes>"
            ],
            "image/png": "[encoded data removed]"
          },
          "metadata": {}
        }
      ]
    },
    {
      "cell_type": "code",
      "source": [
        "### LSTM are sensitive to the scale of the data. so we apply MinMax scaler"
      ],
      "metadata": {
        "id": "x2cyiVslMYmp"
      },
      "execution_count": 11,
      "outputs": []
    },
    {
      "cell_type": "code",
      "source": [
        "import numpy as np"
      ],
      "metadata": {
        "id": "v_lufR54MahT"
      },
      "execution_count": 12,
      "outputs": []
    },
    {
      "cell_type": "code",
      "source": [
        "df1"
      ],
      "metadata": {
        "colab": {
          "base_uri": "https://localhost:8080/"
        },
        "id": "MrlUQPV4McGk",
        "outputId": "772ff8f4-644f-42aa-b99d-9ee1106d305c"
      },
      "execution_count": 13,
      "outputs": [
        {
          "output_type": "execute_result",
          "data": {
            "text/plain": [
              "0       184.43\n",
              "1       184.16\n",
              "2       185.50\n",
              "3       185.11\n",
              "4       187.18\n",
              "         ...  \n",
              "1252    184.92\n",
              "1253    185.01\n",
              "1254    183.96\n",
              "1255    187.00\n",
              "1256    186.68\n",
              "Name: close, Length: 1257, dtype: float64"
            ]
          },
          "metadata": {},
          "execution_count": 13
        }
      ]
    },
    {
      "cell_type": "code",
      "source": [
        "from sklearn.preprocessing import MinMaxScaler\n",
        "scaler=MinMaxScaler(feature_range=(0,1))\n",
        "df1=scaler.fit_transform(np.array(df1).reshape(-1,1))"
      ],
      "metadata": {
        "id": "wCW9EAL5Mc7g"
      },
      "execution_count": 14,
      "outputs": []
    },
    {
      "cell_type": "code",
      "source": [
        "print(df1)"
      ],
      "metadata": {
        "colab": {
          "base_uri": "https://localhost:8080/"
        },
        "id": "EqnCEQbVMfXJ",
        "outputId": "b91a5f3f-aa7d-4d0e-fdde-c09d7d2d4615"
      },
      "execution_count": 15,
      "outputs": [
        {
          "output_type": "stream",
          "name": "stdout",
          "text": [
            "[[0.19433939]\n",
            " [0.19366312]\n",
            " [0.19701941]\n",
            " ...\n",
            " [0.19316218]\n",
            " [0.20077646]\n",
            " [0.19997495]]\n"
          ]
        }
      ]
    },
    {
      "cell_type": "code",
      "source": [
        "##splitting dataset into train and test split\n",
        "training_size=int(len(df1)*0.65)\n",
        "test_size=len(df1)-training_size\n",
        "train_data,test_data=df1[0:training_size,:],df1[training_size:len(df1),:1]"
      ],
      "metadata": {
        "id": "ydbKgD_YMiNU"
      },
      "execution_count": 16,
      "outputs": []
    },
    {
      "cell_type": "code",
      "source": [
        "training_size,test_size"
      ],
      "metadata": {
        "colab": {
          "base_uri": "https://localhost:8080/"
        },
        "id": "iRezrT5EMkNK",
        "outputId": "4552b917-a820-424d-9985-77d951d3a3dd"
      },
      "execution_count": 17,
      "outputs": [
        {
          "output_type": "execute_result",
          "data": {
            "text/plain": [
              "(817, 440)"
            ]
          },
          "metadata": {},
          "execution_count": 17
        }
      ]
    },
    {
      "cell_type": "code",
      "source": [
        "train_data"
      ],
      "metadata": {
        "colab": {
          "base_uri": "https://localhost:8080/"
        },
        "id": "PzBLV1LSMllS",
        "outputId": "e9f08c45-cf65-4745-a620-6c875da4ffa3"
      },
      "execution_count": 18,
      "outputs": [
        {
          "output_type": "execute_result",
          "data": {
            "text/plain": [
              "array([[1.94339386e-01],\n",
              "       [1.93663118e-01],\n",
              "       [1.97019411e-01],\n",
              "       [1.96042580e-01],\n",
              "       [2.01227301e-01],\n",
              "       [1.93061991e-01],\n",
              "       [1.96768942e-01],\n",
              "       [2.03206011e-01],\n",
              "       [2.09743269e-01],\n",
              "       [2.09167188e-01],\n",
              "       [2.02980589e-01],\n",
              "       [2.10870382e-01],\n",
              "       [2.11621791e-01],\n",
              "       [2.10569818e-01],\n",
              "       [2.11922354e-01],\n",
              "       [2.09292423e-01],\n",
              "       [2.12999374e-01],\n",
              "       [2.11897307e-01],\n",
              "       [2.12323106e-01],\n",
              "       [2.15804634e-01],\n",
              "       [2.20363181e-01],\n",
              "       [2.18835316e-01],\n",
              "       [2.10745147e-01],\n",
              "       [2.08065122e-01],\n",
              "       [2.09016907e-01],\n",
              "       [2.37094552e-01],\n",
              "       [2.51847214e-01],\n",
              "       [2.53350031e-01],\n",
              "       [2.56055103e-01],\n",
              "       [2.51145899e-01],\n",
              "       [2.51496556e-01],\n",
              "       [2.55579211e-01],\n",
              "       [2.52197871e-01],\n",
              "       [2.55554164e-01],\n",
              "       [2.57758297e-01],\n",
              "       [2.58985598e-01],\n",
              "       [2.66700063e-01],\n",
              "       [2.77370069e-01],\n",
              "       [2.72060113e-01],\n",
              "       [2.71008140e-01],\n",
              "       [2.71033187e-01],\n",
              "       [2.72135254e-01],\n",
              "       [2.73813400e-01],\n",
              "       [2.78271760e-01],\n",
              "       [2.82680025e-01],\n",
              "       [2.90895429e-01],\n",
              "       [2.96030056e-01],\n",
              "       [3.02542267e-01],\n",
              "       [3.04370695e-01],\n",
              "       [3.00638698e-01],\n",
              "       [2.91195992e-01],\n",
              "       [2.86687539e-01],\n",
              "       [2.79248591e-01],\n",
              "       [2.93074515e-01],\n",
              "       [2.86111459e-01],\n",
              "       [2.99486537e-01],\n",
              "       [2.93049468e-01],\n",
              "       [2.78121478e-01],\n",
              "       [2.79023168e-01],\n",
              "       [2.79348779e-01],\n",
              "       [2.83506575e-01],\n",
              "       [2.77570445e-01],\n",
              "       [2.85410144e-01],\n",
              "       [2.88916719e-01],\n",
              "       [2.84483406e-01],\n",
              "       [2.95829681e-01],\n",
              "       [2.97808391e-01],\n",
              "       [3.01615529e-01],\n",
              "       [3.06675016e-01],\n",
              "       [3.13663118e-01],\n",
              "       [3.03443957e-01],\n",
              "       [2.94176581e-01],\n",
              "       [2.92874139e-01],\n",
              "       [3.00638698e-01],\n",
              "       [2.74314339e-01],\n",
              "       [2.69530369e-01],\n",
              "       [2.88716343e-01],\n",
              "       [2.76819036e-01],\n",
              "       [2.88816531e-01],\n",
              "       [2.86412023e-01],\n",
              "       [2.73462743e-01],\n",
              "       [2.81703193e-01],\n",
              "       [2.85059487e-01],\n",
              "       [2.90269255e-01],\n",
              "       [2.71133375e-01],\n",
              "       [2.82930495e-01],\n",
              "       [2.74164058e-01],\n",
              "       [2.63994991e-01],\n",
              "       [2.66649969e-01],\n",
              "       [2.80576080e-01],\n",
              "       [2.88991860e-01],\n",
              "       [2.52072636e-01],\n",
              "       [2.37319975e-01],\n",
              "       [2.42780213e-01],\n",
              "       [2.58259236e-01],\n",
              "       [2.54602379e-01],\n",
              "       [2.44533500e-01],\n",
              "       [2.18735128e-01],\n",
              "       [2.13876018e-01],\n",
              "       [2.00275517e-01],\n",
              "       [2.11822167e-01],\n",
              "       [2.17132123e-01],\n",
              "       [1.97921102e-01],\n",
              "       [1.75679399e-01],\n",
              "       [1.75178460e-01],\n",
              "       [1.63932373e-01],\n",
              "       [1.69768316e-01],\n",
              "       [1.68816531e-01],\n",
              "       [1.85597996e-01],\n",
              "       [1.82116468e-01],\n",
              "       [1.79686913e-01],\n",
              "       [1.95316218e-01],\n",
              "       [1.74953037e-01],\n",
              "       [1.70018785e-01],\n",
              "       [1.54414527e-01],\n",
              "       [1.57194740e-01],\n",
              "       [1.54765185e-01],\n",
              "       [1.55942392e-01],\n",
              "       [1.60576080e-01],\n",
              "       [1.46875391e-01],\n",
              "       [1.43018159e-01],\n",
              "       [1.48353162e-01],\n",
              "       [1.35378835e-01],\n",
              "       [1.25209768e-01],\n",
              "       [1.09931121e-01],\n",
              "       [1.00162805e-01],\n",
              "       [1.26061365e-01],\n",
              "       [1.23506575e-01],\n",
              "       [1.23706951e-01],\n",
              "       [1.27489042e-01],\n",
              "       [1.27939887e-01],\n",
              "       [8.85410144e-02],\n",
              "       [1.03744521e-01],\n",
              "       [1.02917971e-01],\n",
              "       [1.09981215e-01],\n",
              "       [1.16393237e-01],\n",
              "       [1.17620539e-01],\n",
              "       [1.13838447e-01],\n",
              "       [1.08102693e-01],\n",
              "       [1.15792110e-01],\n",
              "       [1.20475892e-01],\n",
              "       [1.22780213e-01],\n",
              "       [1.25184721e-01],\n",
              "       [1.16368190e-01],\n",
              "       [1.17921102e-01],\n",
              "       [1.14865373e-01],\n",
              "       [1.27539136e-01],\n",
              "       [1.23882279e-01],\n",
              "       [1.19824671e-01],\n",
              "       [1.46299311e-01],\n",
              "       [1.49279900e-01],\n",
              "       [1.49480276e-01],\n",
              "       [1.61327489e-01],\n",
              "       [1.68666249e-01],\n",
              "       [1.68816531e-01],\n",
              "       [1.60551033e-01],\n",
              "       [1.59223544e-01],\n",
              "       [1.56768942e-01],\n",
              "       [1.60425798e-01],\n",
              "       [1.58647464e-01],\n",
              "       [1.60200376e-01],\n",
              "       [1.59248591e-01],\n",
              "       [1.60525986e-01],\n",
              "       [1.63281152e-01],\n",
              "       [1.60851597e-01],\n",
              "       [1.65635567e-01],\n",
              "       [1.68791484e-01],\n",
              "       [1.69041954e-01],\n",
              "       [1.70394490e-01],\n",
              "       [1.66086412e-01],\n",
              "       [1.70644959e-01],\n",
              "       [1.72849092e-01],\n",
              "       [1.72047589e-01],\n",
              "       [1.69517846e-01],\n",
              "       [1.64458359e-01],\n",
              "       [1.65485285e-01],\n",
              "       [1.80488416e-01],\n",
              "       [1.85522855e-01],\n",
              "       [1.87526612e-01],\n",
              "       [1.92586099e-01],\n",
              "       [1.98572323e-01],\n",
              "       [2.03331246e-01],\n",
              "       [1.99599249e-01],\n",
              "       [2.03681904e-01],\n",
              "       [2.21039449e-01],\n",
              "       [2.10920476e-01],\n",
              "       [2.05134627e-01],\n",
              "       [2.00250470e-01],\n",
              "       [2.04458359e-01],\n",
              "       [2.05084534e-01],\n",
              "       [2.08165310e-01],\n",
              "       [2.11396368e-01],\n",
              "       [2.18359424e-01],\n",
              "       [2.21690670e-01],\n",
              "       [2.22542267e-01],\n",
              "       [2.25823419e-01],\n",
              "       [2.33587977e-01],\n",
              "       [2.32085160e-01],\n",
              "       [2.34890420e-01],\n",
              "       [2.30707577e-01],\n",
              "       [2.30507201e-01],\n",
              "       [2.31408892e-01],\n",
              "       [2.31458986e-01],\n",
              "       [2.41177207e-01],\n",
              "       [2.43005636e-01],\n",
              "       [2.44683782e-01],\n",
              "       [2.52072636e-01],\n",
              "       [2.51271133e-01],\n",
              "       [2.46562304e-01],\n",
              "       [2.44107702e-01],\n",
              "       [2.44884158e-01],\n",
              "       [2.35015654e-01],\n",
              "       [2.59686913e-01],\n",
              "       [2.56255479e-01],\n",
              "       [2.62767689e-01],\n",
              "       [2.54577332e-01],\n",
              "       [2.40500939e-01],\n",
              "       [2.40601127e-01],\n",
              "       [2.35140889e-01],\n",
              "       [2.26274264e-01],\n",
              "       [1.97570445e-01],\n",
              "       [2.04934252e-01],\n",
              "       [2.10594865e-01],\n",
              "       [2.08490920e-01],\n",
              "       [2.05785848e-01],\n",
              "       [1.90983093e-01],\n",
              "       [1.99774577e-01],\n",
              "       [1.90206637e-01],\n",
              "       [1.82391985e-01],\n",
              "       [1.80663745e-01],\n",
              "       [1.78810269e-01],\n",
              "       [1.76681277e-01],\n",
              "       [1.78985598e-01],\n",
              "       [1.70895429e-01],\n",
              "       [1.66462116e-01],\n",
              "       [1.82341891e-01],\n",
              "       [1.89605510e-01],\n",
              "       [1.96318096e-01],\n",
              "       [2.08666249e-01],\n",
              "       [2.14752661e-01],\n",
              "       [2.20338134e-01],\n",
              "       [2.18785222e-01],\n",
              "       [2.18685034e-01],\n",
              "       [2.15153413e-01],\n",
              "       [2.18033813e-01],\n",
              "       [2.29455229e-01],\n",
              "       [2.28002505e-01],\n",
              "       [2.31984972e-01],\n",
              "       [2.30281778e-01],\n",
              "       [2.29780839e-01],\n",
              "       [2.22241703e-01],\n",
              "       [2.32836569e-01],\n",
              "       [2.32686287e-01],\n",
              "       [2.28127740e-01],\n",
              "       [2.37219787e-01],\n",
              "       [2.40175329e-01],\n",
              "       [2.44383219e-01],\n",
              "       [2.43932373e-01],\n",
              "       [2.33387602e-01],\n",
              "       [2.36443331e-01],\n",
              "       [2.41427677e-01],\n",
              "       [2.37720726e-01],\n",
              "       [2.41603006e-01],\n",
              "       [2.46386976e-01],\n",
              "       [2.44608641e-01],\n",
              "       [2.41728240e-01],\n",
              "       [2.47514089e-01],\n",
              "       [2.39824671e-01],\n",
              "       [2.51421415e-01],\n",
              "       [2.55479023e-01],\n",
              "       [2.55053225e-01],\n",
              "       [2.50920476e-01],\n",
              "       [2.52723857e-01],\n",
              "       [2.57582968e-01],\n",
              "       [2.55328741e-01],\n",
              "       [2.65998748e-01],\n",
              "       [2.54452098e-01],\n",
              "       [2.43406387e-01],\n",
              "       [2.16656230e-01],\n",
              "       [2.25823419e-01],\n",
              "       [2.30932999e-01],\n",
              "       [2.41928616e-01],\n",
              "       [2.35817157e-01],\n",
              "       [2.34539762e-01],\n",
              "       [2.55804634e-01],\n",
              "       [2.40225423e-01],\n",
              "       [2.37695679e-01],\n",
              "       [2.49618034e-01],\n",
              "       [2.59261115e-01],\n",
              "       [2.59286162e-01],\n",
              "       [2.64996869e-01],\n",
              "       [2.64546024e-01],\n",
              "       [2.39949906e-01],\n",
              "       [2.49592987e-01],\n",
              "       [2.43757044e-01],\n",
              "       [2.47188478e-01],\n",
              "       [2.55904822e-01],\n",
              "       [2.55228554e-01],\n",
              "       [2.47614277e-01],\n",
              "       [2.56355667e-01],\n",
              "       [2.66599875e-01],\n",
              "       [2.66549781e-01],\n",
              "       [2.68829054e-01],\n",
              "       [2.75165936e-01],\n",
              "       [2.92423294e-01],\n",
              "       [2.91170946e-01],\n",
              "       [2.80300564e-01],\n",
              "       [2.83180964e-01],\n",
              "       [2.85184721e-01],\n",
              "       [2.90369443e-01],\n",
              "       [2.85835942e-01],\n",
              "       [2.77745773e-01],\n",
              "       [2.80225423e-01],\n",
              "       [2.77620539e-01],\n",
              "       [2.86011271e-01],\n",
              "       [2.83155917e-01],\n",
              "       [2.80475892e-01],\n",
              "       [2.93375078e-01],\n",
              "       [2.94927990e-01],\n",
              "       [2.80826550e-01],\n",
              "       [2.85485285e-01],\n",
              "       [3.00989355e-01],\n",
              "       [3.01114590e-01],\n",
              "       [2.94452098e-01],\n",
              "       [3.01039449e-01],\n",
              "       [3.08703820e-01],\n",
              "       [3.24032561e-01],\n",
              "       [3.23180964e-01],\n",
              "       [3.21803381e-01],\n",
              "       [3.19423920e-01],\n",
              "       [3.21703193e-01],\n",
              "       [3.24533500e-01],\n",
              "       [3.34802755e-01],\n",
              "       [3.33425172e-01],\n",
              "       [3.41490294e-01],\n",
              "       [3.42492173e-01],\n",
              "       [3.50006262e-01],\n",
              "       [3.56192862e-01],\n",
              "       [3.41765811e-01],\n",
              "       [3.41690670e-01],\n",
              "       [3.55466500e-01],\n",
              "       [3.73149656e-01],\n",
              "       [3.77357545e-01],\n",
              "       [3.76430808e-01],\n",
              "       [3.76706324e-01],\n",
              "       [3.82191609e-01],\n",
              "       [3.83969944e-01],\n",
              "       [3.89129618e-01],\n",
              "       [3.88528491e-01],\n",
              "       [3.94815279e-01],\n",
              "       [3.90231684e-01],\n",
              "       [3.98046337e-01],\n",
              "       [4.01402630e-01],\n",
              "       [3.99373826e-01],\n",
              "       [3.91609267e-01],\n",
              "       [3.88653726e-01],\n",
              "       [3.88077646e-01],\n",
              "       [3.99574202e-01],\n",
              "       [3.94364433e-01],\n",
              "       [4.03256105e-01],\n",
              "       [4.01778334e-01],\n",
              "       [3.94038823e-01],\n",
              "       [3.82241703e-01],\n",
              "       [3.87977458e-01],\n",
              "       [3.97595492e-01],\n",
              "       [4.10444584e-01],\n",
              "       [4.00951785e-01],\n",
              "       [4.04859111e-01],\n",
              "       [4.10594865e-01],\n",
              "       [4.12323106e-01],\n",
              "       [4.21565435e-01],\n",
              "       [4.33362555e-01],\n",
              "       [4.34740138e-01],\n",
              "       [4.33061991e-01],\n",
              "       [4.33763306e-01],\n",
              "       [4.32310582e-01],\n",
              "       [4.43731997e-01],\n",
              "       [4.44408265e-01],\n",
              "       [4.58534753e-01],\n",
              "       [4.58259236e-01],\n",
              "       [4.62567314e-01],\n",
              "       [4.67902317e-01],\n",
              "       [4.84683782e-01],\n",
              "       [4.77370069e-01],\n",
              "       [4.83306199e-01],\n",
              "       [4.79774577e-01],\n",
              "       [4.91797120e-01],\n",
              "       [5.07927364e-01],\n",
              "       [5.09680651e-01],\n",
              "       [5.26286788e-01],\n",
              "       [5.15566688e-01],\n",
              "       [5.12210394e-01],\n",
              "       [5.21978710e-01],\n",
              "       [5.30720100e-01],\n",
              "       [5.25309956e-01],\n",
              "       [5.28140263e-01],\n",
              "       [5.31972448e-01],\n",
              "       [5.29668128e-01],\n",
              "       [5.06224170e-01],\n",
              "       [5.28115216e-01],\n",
              "       [5.44771446e-01],\n",
              "       [5.43594239e-01],\n",
              "       [5.07626800e-01],\n",
              "       [5.05497808e-01],\n",
              "       [5.31020664e-01],\n",
              "       [5.37532874e-01],\n",
              "       [5.46950532e-01],\n",
              "       [5.33976205e-01],\n",
              "       [5.37783344e-01],\n",
              "       [5.32924233e-01],\n",
              "       [5.51934878e-01],\n",
              "       [5.46098936e-01],\n",
              "       [5.46299311e-01],\n",
              "       [5.31396368e-01],\n",
              "       [5.42968065e-01],\n",
              "       [5.34652473e-01],\n",
              "       [5.16493425e-01],\n",
              "       [4.79248591e-01],\n",
              "       [4.53951158e-01],\n",
              "       [4.65397621e-01],\n",
              "       [4.17482780e-01],\n",
              "       [4.17082029e-01],\n",
              "       [4.80826550e-01],\n",
              "       [4.57056982e-01],\n",
              "       [4.90670006e-01],\n",
              "       [4.66073889e-01],\n",
              "       [4.56330620e-01],\n",
              "       [3.99073262e-01],\n",
              "       [4.47088291e-01],\n",
              "       [4.22266750e-01],\n",
              "       [3.54139011e-01],\n",
              "       [4.28628679e-01],\n",
              "       [3.39060739e-01],\n",
              "       [3.65735755e-01],\n",
              "       [3.50231684e-01],\n",
              "       [3.45497808e-01],\n",
              "       [3.06574828e-01],\n",
              "       [2.94376957e-01],\n",
              "       [3.50757671e-01],\n",
              "       [3.47351284e-01],\n",
              "       [3.79711960e-01],\n",
              "       [3.52911709e-01],\n",
              "       [3.70619912e-01],\n",
              "       [3.69317470e-01],\n",
              "       [3.35804634e-01],\n",
              "       [3.45873513e-01],\n",
              "       [3.37056982e-01],\n",
              "       [3.89805886e-01],\n",
              "       [3.82191609e-01],\n",
              "       [3.98822793e-01],\n",
              "       [4.03631810e-01],\n",
              "       [4.16806512e-01],\n",
              "       [4.51371321e-01],\n",
              "       [4.44809017e-01],\n",
              "       [4.50469631e-01],\n",
              "       [4.40726362e-01],\n",
              "       [4.26023795e-01],\n",
              "       [4.04583594e-01],\n",
              "       [4.23944897e-01],\n",
              "       [4.21264872e-01],\n",
              "       [4.41152160e-01],\n",
              "       [4.41653100e-01],\n",
              "       [4.30156544e-01],\n",
              "       [4.53074515e-01],\n",
              "       [4.68278021e-01],\n",
              "       [4.56430808e-01],\n",
              "       [4.66675016e-01],\n",
              "       [4.77695679e-01],\n",
              "       [4.85385097e-01],\n",
              "       [4.93174703e-01],\n",
              "       [5.09179712e-01],\n",
              "       [5.21402630e-01],\n",
              "       [5.12385723e-01],\n",
              "       [5.02968065e-01],\n",
              "       [5.07701941e-01],\n",
              "       [5.03118347e-01],\n",
              "       [5.21277395e-01],\n",
              "       [5.16718848e-01],\n",
              "       [5.31972448e-01],\n",
              "       [5.26011271e-01],\n",
              "       [5.31120852e-01],\n",
              "       [5.25710708e-01],\n",
              "       [5.29167188e-01],\n",
              "       [5.29517846e-01],\n",
              "       [5.28741390e-01],\n",
              "       [5.38534753e-01],\n",
              "       [5.42266750e-01],\n",
              "       [5.46725110e-01],\n",
              "       [5.39711960e-01],\n",
              "       [5.62705072e-01],\n",
              "       [5.67614277e-01],\n",
              "       [5.93988729e-01],\n",
              "       [6.16155291e-01],\n",
              "       [5.73725736e-01],\n",
              "       [5.80989355e-01],\n",
              "       [5.91484033e-01],\n",
              "       [6.14251722e-01],\n",
              "       [6.13024421e-01],\n",
              "       [6.13375078e-01],\n",
              "       [6.08340639e-01],\n",
              "       [6.31258610e-01],\n",
              "       [6.50444584e-01],\n",
              "       [6.34239198e-01],\n",
              "       [6.46211647e-01],\n",
              "       [6.18134001e-01],\n",
              "       [6.38547276e-01],\n",
              "       [6.46111459e-01],\n",
              "       [6.44383219e-01],\n",
              "       [6.44383219e-01],\n",
              "       [6.68778961e-01],\n",
              "       [6.65873513e-01],\n",
              "       [6.87614277e-01],\n",
              "       [6.91721979e-01],\n",
              "       [6.93400125e-01],\n",
              "       [6.88966813e-01],\n",
              "       [7.04796493e-01],\n",
              "       [7.11484033e-01],\n",
              "       [6.99436443e-01],\n",
              "       [6.97482780e-01],\n",
              "       [7.17820914e-01],\n",
              "       [7.04220413e-01],\n",
              "       [7.06950532e-01],\n",
              "       [6.62592361e-01],\n",
              "       [6.60288040e-01],\n",
              "       [6.82279274e-01],\n",
              "       [6.66675016e-01],\n",
              "       [6.84583594e-01],\n",
              "       [6.96105197e-01],\n",
              "       [7.96994364e-01],\n",
              "       [8.23819662e-01],\n",
              "       [8.31108328e-01],\n",
              "       [8.35090795e-01],\n",
              "       [8.73562930e-01],\n",
              "       [8.45610520e-01],\n",
              "       [8.61790858e-01],\n",
              "       [8.28202880e-01],\n",
              "       [8.64621165e-01],\n",
              "       [8.84658735e-01],\n",
              "       [8.83631810e-01],\n",
              "       [8.80626174e-01],\n",
              "       [8.90194114e-01],\n",
              "       [8.91646838e-01],\n",
              "       [9.17370069e-01],\n",
              "       [9.78434565e-01],\n",
              "       [9.93337508e-01],\n",
              "       [9.82993112e-01],\n",
              "       [1.00000000e+00],\n",
              "       [9.84846587e-01],\n",
              "       [9.82817783e-01],\n",
              "       [5.56042580e-02],\n",
              "       [6.84783970e-02],\n",
              "       [6.15153413e-02],\n",
              "       [3.51659361e-02],\n",
              "       [3.53663118e-02],\n",
              "       [1.49780839e-02],\n",
              "       [2.62492173e-02],\n",
              "       [1.66562304e-02],\n",
              "       [1.29242329e-02],\n",
              "       [2.13274890e-02],\n",
              "       [2.17908579e-02],\n",
              "       [1.32498435e-02],\n",
              "       [8.76643707e-03],\n",
              "       [0.00000000e+00],\n",
              "       [8.11521603e-03],\n",
              "       [1.24483406e-02],\n",
              "       [7.01314966e-04],\n",
              "       [3.45648090e-03],\n",
              "       [1.36255479e-02],\n",
              "       [2.03381340e-02],\n",
              "       [1.81590482e-02],\n",
              "       [2.24671259e-02],\n",
              "       [2.49217282e-02],\n",
              "       [1.54790232e-02],\n",
              "       [2.41953663e-02],\n",
              "       [1.58296807e-02],\n",
              "       [2.06386976e-02],\n",
              "       [2.03631810e-02],\n",
              "       [2.53725736e-02],\n",
              "       [4.39824671e-02],\n",
              "       [3.57169693e-02],\n",
              "       [3.59423920e-02],\n",
              "       [3.47401378e-02],\n",
              "       [3.05072010e-02],\n",
              "       [2.28929242e-02],\n",
              "       [2.67251096e-02],\n",
              "       [2.51221039e-02],\n",
              "       [2.23168441e-02],\n",
              "       [2.05385097e-02],\n",
              "       [2.05635567e-02],\n",
              "       [2.44458359e-02],\n",
              "       [1.09204759e-02],\n",
              "       [2.12398247e-02],\n",
              "       [5.05948654e-03],\n",
              "       [4.83406387e-03],\n",
              "       [9.01690670e-03],\n",
              "       [2.03130870e-02],\n",
              "       [3.05322480e-02],\n",
              "       [2.96806512e-02],\n",
              "       [2.37445210e-02],\n",
              "       [2.28678773e-02],\n",
              "       [3.16844083e-02],\n",
              "       [3.09830933e-02],\n",
              "       [3.11083281e-02],\n",
              "       [3.37132123e-02],\n",
              "       [3.14339386e-02],\n",
              "       [2.80275517e-02],\n",
              "       [2.95554164e-02],\n",
              "       [2.62993112e-02],\n",
              "       [1.75579211e-02],\n",
              "       [2.08641202e-02],\n",
              "       [2.30181590e-02],\n",
              "       [2.44207890e-02],\n",
              "       [3.05823419e-02],\n",
              "       [3.97745773e-02],\n",
              "       [4.06762680e-02],\n",
              "       [4.03256105e-02],\n",
              "       [3.85973701e-02],\n",
              "       [4.23544145e-02],\n",
              "       [4.39323732e-02],\n",
              "       [3.74201628e-02],\n",
              "       [4.10770194e-02],\n",
              "       [3.89981215e-02],\n",
              "       [3.74201628e-02],\n",
              "       [5.26988103e-02],\n",
              "       [5.25234815e-02],\n",
              "       [5.47526612e-02],\n",
              "       [4.96305573e-02],\n",
              "       [5.35754540e-02],\n",
              "       [6.27175955e-02],\n",
              "       [6.04132749e-02],\n",
              "       [6.29430182e-02],\n",
              "       [7.47651847e-02],\n",
              "       [7.02066374e-02],\n",
              "       [6.73262367e-02],\n",
              "       [6.47463995e-02],\n",
              "       [5.65309956e-02],\n",
              "       [6.05385097e-02],\n",
              "       [4.94927990e-02],\n",
              "       [6.03130870e-02],\n",
              "       [6.31433939e-02],\n",
              "       [5.54539762e-02],\n",
              "       [5.50031309e-02],\n",
              "       [6.02379461e-02],\n",
              "       [5.52786475e-02],\n",
              "       [5.08453350e-02],\n",
              "       [5.25735755e-02],\n",
              "       [6.30932999e-02],\n",
              "       [7.52160301e-02],\n",
              "       [8.07263619e-02],\n",
              "       [9.03694427e-02],\n",
              "       [9.09705698e-02],\n",
              "       [8.82154039e-02],\n",
              "       [7.57670632e-02],\n",
              "       [6.29179712e-02],\n",
              "       [6.83782091e-02],\n",
              "       [7.05072010e-02],\n",
              "       [6.78772699e-02],\n",
              "       [7.65184721e-02],\n",
              "       [7.49405135e-02],\n",
              "       [7.53162179e-02],\n",
              "       [7.30619912e-02],\n",
              "       [7.15090795e-02],\n",
              "       [7.08578585e-02],\n",
              "       [7.14589856e-02],\n",
              "       [6.59987477e-02],\n",
              "       [6.01127113e-02],\n",
              "       [5.72824045e-02],\n",
              "       [5.76831559e-02],\n",
              "       [4.79899812e-02],\n",
              "       [4.76393237e-02],\n",
              "       [4.63619286e-02],\n",
              "       [3.54414527e-02],\n",
              "       [3.61177207e-02],\n",
              "       [5.24733876e-02],\n",
              "       [4.57858485e-02],\n",
              "       [3.81214778e-02],\n",
              "       [3.32874139e-02],\n",
              "       [3.65184721e-02],\n",
              "       [2.38447088e-02],\n",
              "       [3.56793989e-02],\n",
              "       [3.29117095e-02],\n",
              "       [3.78710081e-02],\n",
              "       [3.55416406e-02],\n",
              "       [4.29555416e-02],\n",
              "       [4.69129618e-02],\n",
              "       [4.48841578e-02],\n",
              "       [3.42892924e-02],\n",
              "       [3.29367564e-02],\n",
              "       [4.14527239e-02],\n",
              "       [3.93237320e-02],\n",
              "       [3.31872260e-02],\n",
              "       [3.44395742e-02],\n",
              "       [3.59924859e-02],\n",
              "       [3.64433312e-02],\n",
              "       [3.27113338e-02],\n",
              "       [3.83469004e-02],\n",
              "       [4.04758923e-02],\n",
              "       [4.77395116e-02],\n",
              "       [4.85159674e-02],\n",
              "       [5.27489042e-02],\n",
              "       [5.89104571e-02],\n",
              "       [6.55103319e-02],\n",
              "       [6.11145899e-02],\n",
              "       [6.91045711e-02],\n",
              "       [6.30932999e-02],\n",
              "       [6.92798998e-02],\n",
              "       [6.84283031e-02],\n",
              "       [7.01314966e-02],\n",
              "       [6.57983719e-02],\n",
              "       [6.67752035e-02],\n",
              "       [6.28678773e-02],\n",
              "       [6.88290545e-02],\n",
              "       [6.98309330e-02],\n",
              "       [6.90043832e-02],\n",
              "       [6.69755792e-02],\n",
              "       [6.67251096e-02],\n",
              "       [6.16656230e-02],\n",
              "       [6.43706951e-02],\n",
              "       [5.26236694e-02],\n",
              "       [5.32498435e-02],\n",
              "       [5.73575454e-02],\n",
              "       [5.85347527e-02],\n",
              "       [5.01189731e-02],\n",
              "       [4.77645585e-02],\n",
              "       [3.98998121e-02],\n",
              "       [4.54101440e-02],\n",
              "       [5.16217909e-02],\n",
              "       [4.86662492e-02],\n",
              "       [4.51095805e-02],\n",
              "       [4.47088291e-02],\n",
              "       [5.12711334e-02],\n",
              "       [4.65623043e-02],\n",
              "       [5.07451472e-02],\n",
              "       [5.02442079e-02],\n",
              "       [5.01189731e-02],\n",
              "       [4.61865999e-02],\n",
              "       [4.45084534e-02],\n",
              "       [4.36819036e-02],\n",
              "       [4.56355667e-02],\n",
              "       [4.18284283e-02],\n",
              "       [4.77144646e-02],\n",
              "       [4.77395116e-02],\n",
              "       [4.98434565e-02],\n",
              "       [5.08202880e-02],\n",
              "       [4.82654978e-02],\n",
              "       [5.13713212e-02],\n",
              "       [5.92110207e-02],\n",
              "       [5.71070758e-02],\n",
              "       [5.83844709e-02],\n",
              "       [6.24921728e-02],\n",
              "       [5.91609267e-02],\n",
              "       [6.37695679e-02],\n",
              "       [6.79774577e-02],\n",
              "       [6.72761428e-02],\n",
              "       [6.65497808e-02],\n",
              "       [6.57983719e-02],\n",
              "       [6.99812148e-02],\n",
              "       [7.38634941e-02],\n",
              "       [7.54414527e-02],\n",
              "       [7.62179086e-02],\n",
              "       [8.29555416e-02],\n",
              "       [8.81152160e-02],\n",
              "       [9.45021916e-02],\n",
              "       [9.11709455e-02],\n",
              "       [9.58547276e-02],\n",
              "       [9.43268629e-02],\n",
              "       [9.71822167e-02],\n",
              "       [1.05973701e-01],\n",
              "       [1.04295554e-01],\n",
              "       [9.90607389e-02],\n",
              "       [8.91922354e-02],\n",
              "       [9.84596118e-02],\n",
              "       [9.65810895e-02],\n",
              "       [1.00087664e-01],\n",
              "       [1.04495930e-01],\n",
              "       [1.05572949e-01],\n",
              "       [1.00012523e-01],\n",
              "       [9.55291171e-02],\n",
              "       [9.71822167e-02],\n",
              "       [9.77332498e-02],\n",
              "       [9.68816531e-02],\n",
              "       [1.01490294e-01],\n",
              "       [1.00463369e-01],\n",
              "       [1.00738885e-01],\n",
              "       [9.84345648e-02],\n",
              "       [9.83093300e-02],\n",
              "       [9.70820288e-02],\n",
              "       [9.77332498e-02],\n",
              "       [1.05322480e-01],\n",
              "       [1.05848466e-01],\n",
              "       [1.10907952e-01],\n",
              "       [1.08578585e-01],\n",
              "       [9.89855980e-02],\n",
              "       [9.98371947e-02],\n",
              "       [1.03569192e-01],\n",
              "       [1.07376331e-01],\n",
              "       [1.07150908e-01],\n",
              "       [1.03994991e-01],\n",
              "       [1.01941140e-01],\n",
              "       [1.04596118e-01],\n",
              "       [1.15917345e-01],\n",
              "       [1.12686287e-01],\n",
              "       [1.14389480e-01],\n",
              "       [1.17244834e-01],\n",
              "       [1.18872887e-01],\n",
              "       [1.24859111e-01],\n",
              "       [1.20901691e-01],\n",
              "       [1.18296807e-01],\n",
              "       [1.05522855e-01],\n",
              "       [1.06975579e-01],\n",
              "       [1.03393863e-01],\n",
              "       [1.05673137e-01],\n",
              "       [1.05072010e-01],\n",
              "       [9.82341891e-02],\n",
              "       [9.04195366e-02],\n",
              "       [9.16468378e-02],\n",
              "       [9.77082029e-02]])"
            ]
          },
          "metadata": {},
          "execution_count": 18
        }
      ]
    },
    {
      "cell_type": "code",
      "source": [
        "import numpy\n",
        "# convert an array of values into a dataset matrix\n",
        "def create_dataset(dataset, time_step=1):\n",
        "\tdataX, dataY = [], []\n",
        "\tfor i in range(len(dataset)-time_step-1):\n",
        "\t\ta = dataset[i:(i+time_step), 0]   ###i=0, 0,1,2,3-----99   100\n",
        "\t\tdataX.append(a)\n",
        "\t\tdataY.append(dataset[i + time_step, 0])\n",
        "\treturn numpy.array(dataX), numpy.array(dataY)"
      ],
      "metadata": {
        "id": "mb6PqapMMng3"
      },
      "execution_count": 19,
      "outputs": []
    },
    {
      "cell_type": "code",
      "source": [
        "# reshape into X=t,t+1,t+2,t+3 and Y=t+4\n",
        "time_step = 100\n",
        "X_train, y_train = create_dataset(train_data, time_step)\n",
        "X_test, ytest = create_dataset(test_data, time_step)"
      ],
      "metadata": {
        "id": "b56Q974YMrAE"
      },
      "execution_count": 20,
      "outputs": []
    },
    {
      "cell_type": "code",
      "source": [
        "print(X_train.shape), print(y_train.shape)"
      ],
      "metadata": {
        "colab": {
          "base_uri": "https://localhost:8080/"
        },
        "id": "5T1veXPuMs22",
        "outputId": "bfd936c4-048a-464b-bcf9-7cd35a825f47"
      },
      "execution_count": 21,
      "outputs": [
        {
          "output_type": "stream",
          "name": "stdout",
          "text": [
            "(716, 100)\n",
            "(716,)\n"
          ]
        },
        {
          "output_type": "execute_result",
          "data": {
            "text/plain": [
              "(None, None)"
            ]
          },
          "metadata": {},
          "execution_count": 21
        }
      ]
    },
    {
      "cell_type": "code",
      "source": [
        "print(X_test.shape), print(ytest.shape)"
      ],
      "metadata": {
        "colab": {
          "base_uri": "https://localhost:8080/"
        },
        "id": "UVxLPSOkMuWw",
        "outputId": "ec4d98a3-0b85-4cc4-db18-a09958536b75"
      },
      "execution_count": 22,
      "outputs": [
        {
          "output_type": "stream",
          "name": "stdout",
          "text": [
            "(339, 100)\n",
            "(339,)\n"
          ]
        },
        {
          "output_type": "execute_result",
          "data": {
            "text/plain": [
              "(None, None)"
            ]
          },
          "metadata": {},
          "execution_count": 22
        }
      ]
    },
    {
      "cell_type": "code",
      "source": [
        "# reshape input to be [samples, time steps, features] which is required for LSTM\n",
        "X_train =X_train.reshape(X_train.shape[0],X_train.shape[1] , 1)\n",
        "X_test = X_test.reshape(X_test.shape[0],X_test.shape[1] , 1)"
      ],
      "metadata": {
        "id": "iho1QkjcMw-8"
      },
      "execution_count": 23,
      "outputs": []
    },
    {
      "cell_type": "code",
      "source": [
        "### Create the Stacked LSTM model\n",
        "from tensorflow.keras.models import Sequential\n",
        "from tensorflow.keras.layers import Dense\n",
        "from tensorflow.keras.layers import LSTM"
      ],
      "metadata": {
        "id": "XuPzcJ_RMy_b"
      },
      "execution_count": 24,
      "outputs": []
    },
    {
      "cell_type": "code",
      "source": [
        "model=Sequential()\n",
        "model.add(LSTM(50,return_sequences=True,input_shape=(100,1)))\n",
        "model.add(LSTM(50,return_sequences=True))\n",
        "model.add(LSTM(50))\n",
        "model.add(Dense(1))\n",
        "model.compile(loss='mean_squared_error',optimizer='adam')"
      ],
      "metadata": {
        "id": "Gg9QqqwzM0ed"
      },
      "execution_count": 25,
      "outputs": []
    },
    {
      "cell_type": "code",
      "source": [
        "model.summary()"
      ],
      "metadata": {
        "colab": {
          "base_uri": "https://localhost:8080/"
        },
        "id": "Et6C6vDMM2S5",
        "outputId": "c232097b-21e7-41bd-a577-efcd9d25b8dd"
      },
      "execution_count": 26,
      "outputs": [
        {
          "output_type": "stream",
          "name": "stdout",
          "text": [
            "Model: \"sequential\"\n",
            "_________________________________________________________________\n",
            " Layer (type)                Output Shape              Param #   \n",
            "=================================================================\n",
            " lstm (LSTM)                 (None, 100, 50)           10400     \n",
            "                                                                 \n",
            " lstm_1 (LSTM)               (None, 100, 50)           20200     \n",
            "                                                                 \n",
            " lstm_2 (LSTM)               (None, 50)                20200     \n",
            "                                                                 \n",
            " dense (Dense)               (None, 1)                 51        \n",
            "                                                                 \n",
            "=================================================================\n",
            "Total params: 50,851\n",
            "Trainable params: 50,851\n",
            "Non-trainable params: 0\n",
            "_________________________________________________________________\n"
          ]
        }
      ]
    },
    {
      "cell_type": "code",
      "source": [
        "model.summary()"
      ],
      "metadata": {
        "colab": {
          "base_uri": "https://localhost:8080/"
        },
        "id": "K5ZE0GM8M3yU",
        "outputId": "4e0e824a-e3e9-467a-9dcf-f18333966a3a"
      },
      "execution_count": 27,
      "outputs": [
        {
          "output_type": "stream",
          "name": "stdout",
          "text": [
            "Model: \"sequential\"\n",
            "_________________________________________________________________\n",
            " Layer (type)                Output Shape              Param #   \n",
            "=================================================================\n",
            " lstm (LSTM)                 (None, 100, 50)           10400     \n",
            "                                                                 \n",
            " lstm_1 (LSTM)               (None, 100, 50)           20200     \n",
            "                                                                 \n",
            " lstm_2 (LSTM)               (None, 50)                20200     \n",
            "                                                                 \n",
            " dense (Dense)               (None, 1)                 51        \n",
            "                                                                 \n",
            "=================================================================\n",
            "Total params: 50,851\n",
            "Trainable params: 50,851\n",
            "Non-trainable params: 0\n",
            "_________________________________________________________________\n"
          ]
        }
      ]
    },
    {
      "cell_type": "code",
      "source": [
        "model.fit(X_train,y_train,validation_data=(X_test,ytest),epochs=100,batch_size=64,verbose=1)"
      ],
      "metadata": {
        "colab": {
          "base_uri": "https://localhost:8080/"
        },
        "id": "RkumsmTcM7bN",
        "outputId": "c8520c2b-011b-4381-a92e-46ab4b45f49e"
      },
      "execution_count": 28,
      "outputs": [
        {
          "output_type": "stream",
          "name": "stdout",
          "text": [
            "Epoch 1/100\n",
            "12/12 [==============================] - 12s 411ms/step - loss: 0.0418 - val_loss: 0.0022\n",
            "Epoch 2/100\n",
            "12/12 [==============================] - 3s 287ms/step - loss: 0.0132 - val_loss: 0.0013\n",
            "Epoch 3/100\n",
            "12/12 [==============================] - 4s 323ms/step - loss: 0.0105 - val_loss: 4.8798e-04\n",
            "Epoch 4/100\n",
            "12/12 [==============================] - 4s 374ms/step - loss: 0.0092 - val_loss: 9.3937e-04\n",
            "Epoch 5/100\n",
            "12/12 [==============================] - 3s 232ms/step - loss: 0.0088 - val_loss: 8.7890e-04\n",
            "Epoch 6/100\n",
            "12/12 [==============================] - 3s 246ms/step - loss: 0.0072 - val_loss: 3.0454e-04\n",
            "Epoch 7/100\n",
            "12/12 [==============================] - 4s 384ms/step - loss: 0.0062 - val_loss: 2.9516e-04\n",
            "Epoch 8/100\n",
            "12/12 [==============================] - 3s 222ms/step - loss: 0.0058 - val_loss: 9.2171e-04\n",
            "Epoch 9/100\n",
            "12/12 [==============================] - 3s 256ms/step - loss: 0.0060 - val_loss: 3.4735e-04\n",
            "Epoch 10/100\n",
            "12/12 [==============================] - 4s 324ms/step - loss: 0.0046 - val_loss: 4.2149e-04\n",
            "Epoch 11/100\n",
            "12/12 [==============================] - 5s 376ms/step - loss: 0.0042 - val_loss: 3.9743e-04\n",
            "Epoch 12/100\n",
            "12/12 [==============================] - 4s 328ms/step - loss: 0.0039 - val_loss: 3.5974e-04\n",
            "Epoch 13/100\n",
            "12/12 [==============================] - 4s 304ms/step - loss: 0.0034 - val_loss: 3.1836e-04\n",
            "Epoch 14/100\n",
            "12/12 [==============================] - 5s 372ms/step - loss: 0.0034 - val_loss: 3.7278e-04\n",
            "Epoch 15/100\n",
            "12/12 [==============================] - 3s 281ms/step - loss: 0.0030 - val_loss: 3.3401e-04\n",
            "Epoch 16/100\n",
            "12/12 [==============================] - 3s 297ms/step - loss: 0.0027 - val_loss: 2.5180e-04\n",
            "Epoch 17/100\n",
            "12/12 [==============================] - 3s 263ms/step - loss: 0.0026 - val_loss: 2.3799e-04\n",
            "Epoch 18/100\n",
            "12/12 [==============================] - 4s 346ms/step - loss: 0.0025 - val_loss: 2.7620e-04\n",
            "Epoch 19/100\n",
            "12/12 [==============================] - 3s 240ms/step - loss: 0.0027 - val_loss: 6.6181e-04\n",
            "Epoch 20/100\n",
            "12/12 [==============================] - 3s 252ms/step - loss: 0.0027 - val_loss: 3.5138e-04\n",
            "Epoch 21/100\n",
            "12/12 [==============================] - 3s 294ms/step - loss: 0.0021 - val_loss: 4.0149e-04\n",
            "Epoch 22/100\n",
            "12/12 [==============================] - 3s 252ms/step - loss: 0.0025 - val_loss: 2.5887e-04\n",
            "Epoch 23/100\n",
            "12/12 [==============================] - 3s 224ms/step - loss: 0.0023 - val_loss: 2.4030e-04\n",
            "Epoch 24/100\n",
            "12/12 [==============================] - 3s 247ms/step - loss: 0.0019 - val_loss: 2.4647e-04\n",
            "Epoch 25/100\n",
            "12/12 [==============================] - 3s 232ms/step - loss: 0.0018 - val_loss: 2.4983e-04\n",
            "Epoch 26/100\n",
            "12/12 [==============================] - 4s 340ms/step - loss: 0.0022 - val_loss: 2.8289e-04\n",
            "Epoch 27/100\n",
            "12/12 [==============================] - 3s 250ms/step - loss: 0.0022 - val_loss: 2.3472e-04\n",
            "Epoch 28/100\n",
            "12/12 [==============================] - 3s 221ms/step - loss: 0.0022 - val_loss: 2.7730e-04\n",
            "Epoch 29/100\n",
            "12/12 [==============================] - 3s 225ms/step - loss: 0.0033 - val_loss: 3.1999e-04\n",
            "Epoch 30/100\n",
            "12/12 [==============================] - 4s 362ms/step - loss: 0.0025 - val_loss: 2.4232e-04\n",
            "Epoch 31/100\n",
            "12/12 [==============================] - 4s 348ms/step - loss: 0.0033 - val_loss: 3.7402e-04\n",
            "Epoch 32/100\n",
            "12/12 [==============================] - 5s 452ms/step - loss: 0.0058 - val_loss: 7.5960e-04\n",
            "Epoch 33/100\n",
            "12/12 [==============================] - 7s 584ms/step - loss: 0.0039 - val_loss: 7.8850e-04\n",
            "Epoch 34/100\n",
            "12/12 [==============================] - 5s 433ms/step - loss: 0.0032 - val_loss: 3.1269e-04\n",
            "Epoch 35/100\n",
            "12/12 [==============================] - 4s 345ms/step - loss: 0.0029 - val_loss: 2.2837e-04\n",
            "Epoch 36/100\n",
            "12/12 [==============================] - 4s 384ms/step - loss: 0.0029 - val_loss: 2.1759e-04\n",
            "Epoch 37/100\n",
            "12/12 [==============================] - 3s 231ms/step - loss: 0.0025 - val_loss: 2.8933e-04\n",
            "Epoch 38/100\n",
            "12/12 [==============================] - 4s 354ms/step - loss: 0.0026 - val_loss: 2.5346e-04\n",
            "Epoch 39/100\n",
            "12/12 [==============================] - 5s 381ms/step - loss: 0.0037 - val_loss: 4.5385e-04\n",
            "Epoch 40/100\n",
            "12/12 [==============================] - 3s 263ms/step - loss: 0.0027 - val_loss: 2.4261e-04\n",
            "Epoch 41/100\n",
            "12/12 [==============================] - 3s 226ms/step - loss: 0.0021 - val_loss: 3.2431e-04\n",
            "Epoch 42/100\n",
            "12/12 [==============================] - 4s 351ms/step - loss: 0.0026 - val_loss: 3.6579e-04\n",
            "Epoch 43/100\n",
            "12/12 [==============================] - 3s 276ms/step - loss: 0.0027 - val_loss: 5.4364e-04\n",
            "Epoch 44/100\n",
            "12/12 [==============================] - 3s 251ms/step - loss: 0.0024 - val_loss: 3.7091e-04\n",
            "Epoch 45/100\n",
            "12/12 [==============================] - 3s 229ms/step - loss: 0.0018 - val_loss: 3.4202e-04\n",
            "Epoch 46/100\n",
            "12/12 [==============================] - 5s 459ms/step - loss: 0.0021 - val_loss: 5.4170e-04\n",
            "Epoch 47/100\n",
            "12/12 [==============================] - 4s 282ms/step - loss: 0.0019 - val_loss: 4.1514e-04\n",
            "Epoch 48/100\n",
            "12/12 [==============================] - 3s 223ms/step - loss: 0.0022 - val_loss: 6.7760e-04\n",
            "Epoch 49/100\n",
            "12/12 [==============================] - 5s 414ms/step - loss: 0.0018 - val_loss: 6.4974e-04\n",
            "Epoch 50/100\n",
            "12/12 [==============================] - 4s 310ms/step - loss: 0.0044 - val_loss: 0.0013\n",
            "Epoch 51/100\n",
            "12/12 [==============================] - 4s 377ms/step - loss: 0.0037 - val_loss: 4.4872e-04\n",
            "Epoch 52/100\n",
            "12/12 [==============================] - 3s 253ms/step - loss: 0.0023 - val_loss: 2.6581e-04\n",
            "Epoch 53/100\n",
            "12/12 [==============================] - 5s 379ms/step - loss: 0.0019 - val_loss: 2.4914e-04\n",
            "Epoch 54/100\n",
            "12/12 [==============================] - 3s 225ms/step - loss: 0.0026 - val_loss: 2.6837e-04\n",
            "Epoch 55/100\n",
            "12/12 [==============================] - 3s 252ms/step - loss: 0.0021 - val_loss: 2.3299e-04\n",
            "Epoch 56/100\n",
            "12/12 [==============================] - 5s 466ms/step - loss: 0.0019 - val_loss: 2.5571e-04\n",
            "Epoch 57/100\n",
            "12/12 [==============================] - 3s 270ms/step - loss: 0.0017 - val_loss: 2.5850e-04\n",
            "Epoch 58/100\n",
            "12/12 [==============================] - 4s 374ms/step - loss: 0.0015 - val_loss: 2.2863e-04\n",
            "Epoch 59/100\n",
            "12/12 [==============================] - 7s 638ms/step - loss: 0.0014 - val_loss: 2.3206e-04\n",
            "Epoch 60/100\n",
            "12/12 [==============================] - 3s 228ms/step - loss: 0.0013 - val_loss: 2.3189e-04\n",
            "Epoch 61/100\n",
            "12/12 [==============================] - 3s 251ms/step - loss: 0.0013 - val_loss: 3.0718e-04\n",
            "Epoch 62/100\n",
            "12/12 [==============================] - 3s 248ms/step - loss: 0.0020 - val_loss: 2.3842e-04\n",
            "Epoch 63/100\n",
            "12/12 [==============================] - 5s 379ms/step - loss: 0.0016 - val_loss: 3.6335e-04\n",
            "Epoch 64/100\n",
            "12/12 [==============================] - 3s 248ms/step - loss: 0.0016 - val_loss: 2.6276e-04\n",
            "Epoch 65/100\n",
            "12/12 [==============================] - 3s 254ms/step - loss: 0.0015 - val_loss: 2.5156e-04\n",
            "Epoch 66/100\n",
            "12/12 [==============================] - 3s 263ms/step - loss: 0.0018 - val_loss: 3.5526e-04\n",
            "Epoch 67/100\n",
            "12/12 [==============================] - 4s 304ms/step - loss: 0.0015 - val_loss: 2.3781e-04\n",
            "Epoch 68/100\n",
            "12/12 [==============================] - 3s 250ms/step - loss: 0.0032 - val_loss: 2.3852e-04\n",
            "Epoch 69/100\n",
            "12/12 [==============================] - 3s 219ms/step - loss: 0.0032 - val_loss: 2.7565e-04\n",
            "Epoch 70/100\n",
            "12/12 [==============================] - 3s 237ms/step - loss: 0.0021 - val_loss: 2.4754e-04\n",
            "Epoch 71/100\n",
            "12/12 [==============================] - 4s 322ms/step - loss: 0.0021 - val_loss: 2.2904e-04\n",
            "Epoch 72/100\n",
            "12/12 [==============================] - 3s 254ms/step - loss: 0.0015 - val_loss: 2.5213e-04\n",
            "Epoch 73/100\n",
            "12/12 [==============================] - 3s 220ms/step - loss: 0.0013 - val_loss: 2.2229e-04\n",
            "Epoch 74/100\n",
            "12/12 [==============================] - 3s 248ms/step - loss: 0.0012 - val_loss: 2.2370e-04\n",
            "Epoch 75/100\n",
            "12/12 [==============================] - 4s 338ms/step - loss: 0.0013 - val_loss: 2.3108e-04\n",
            "Epoch 76/100\n",
            "12/12 [==============================] - 3s 248ms/step - loss: 0.0013 - val_loss: 2.6002e-04\n",
            "Epoch 77/100\n",
            "12/12 [==============================] - 3s 228ms/step - loss: 0.0016 - val_loss: 2.2220e-04\n",
            "Epoch 78/100\n",
            "12/12 [==============================] - 3s 249ms/step - loss: 0.0015 - val_loss: 2.3315e-04\n",
            "Epoch 79/100\n",
            "12/12 [==============================] - 4s 338ms/step - loss: 0.0012 - val_loss: 2.3066e-04\n",
            "Epoch 80/100\n",
            "12/12 [==============================] - 3s 248ms/step - loss: 0.0013 - val_loss: 2.3622e-04\n",
            "Epoch 81/100\n",
            "12/12 [==============================] - 3s 250ms/step - loss: 0.0012 - val_loss: 2.4633e-04\n",
            "Epoch 82/100\n",
            "12/12 [==============================] - 3s 226ms/step - loss: 9.6226e-04 - val_loss: 2.6205e-04\n",
            "Epoch 83/100\n",
            "12/12 [==============================] - 3s 289ms/step - loss: 0.0011 - val_loss: 2.4522e-04\n",
            "Epoch 84/100\n",
            "12/12 [==============================] - 3s 275ms/step - loss: 0.0046 - val_loss: 0.0026\n",
            "Epoch 85/100\n",
            "12/12 [==============================] - 3s 227ms/step - loss: 0.0046 - val_loss: 2.2842e-04\n",
            "Epoch 86/100\n",
            "12/12 [==============================] - 3s 251ms/step - loss: 0.0030 - val_loss: 3.4795e-04\n",
            "Epoch 87/100\n",
            "12/12 [==============================] - 3s 274ms/step - loss: 0.0023 - val_loss: 4.2390e-04\n",
            "Epoch 88/100\n",
            "12/12 [==============================] - 3s 277ms/step - loss: 0.0021 - val_loss: 2.6821e-04\n",
            "Epoch 89/100\n",
            "12/12 [==============================] - 3s 258ms/step - loss: 0.0020 - val_loss: 2.4221e-04\n",
            "Epoch 90/100\n",
            "12/12 [==============================] - 3s 260ms/step - loss: 0.0015 - val_loss: 2.8278e-04\n",
            "Epoch 91/100\n",
            "12/12 [==============================] - 3s 247ms/step - loss: 0.0020 - val_loss: 2.9847e-04\n",
            "Epoch 92/100\n",
            "12/12 [==============================] - 4s 301ms/step - loss: 0.0022 - val_loss: 2.8782e-04\n",
            "Epoch 93/100\n",
            "12/12 [==============================] - 3s 275ms/step - loss: 0.0024 - val_loss: 2.1670e-04\n",
            "Epoch 94/100\n",
            "12/12 [==============================] - 3s 247ms/step - loss: 0.0021 - val_loss: 2.4329e-04\n",
            "Epoch 95/100\n",
            "12/12 [==============================] - 3s 224ms/step - loss: 0.0017 - val_loss: 2.7555e-04\n",
            "Epoch 96/100\n",
            "12/12 [==============================] - 4s 324ms/step - loss: 0.0014 - val_loss: 3.0110e-04\n",
            "Epoch 97/100\n",
            "12/12 [==============================] - 3s 298ms/step - loss: 0.0013 - val_loss: 2.1502e-04\n",
            "Epoch 98/100\n",
            "12/12 [==============================] - 3s 250ms/step - loss: 0.0015 - val_loss: 2.0562e-04\n",
            "Epoch 99/100\n",
            "12/12 [==============================] - 3s 234ms/step - loss: 0.0019 - val_loss: 2.6283e-04\n",
            "Epoch 100/100\n",
            "12/12 [==============================] - 4s 346ms/step - loss: 0.0017 - val_loss: 2.8932e-04\n"
          ]
        },
        {
          "output_type": "execute_result",
          "data": {
            "text/plain": [
              "<keras.callbacks.History at 0x7fc19e300310>"
            ]
          },
          "metadata": {},
          "execution_count": 28
        }
      ]
    },
    {
      "cell_type": "code",
      "source": [
        "import tensorflow as tf"
      ],
      "metadata": {
        "id": "iljmYSrLNAxG"
      },
      "execution_count": 29,
      "outputs": []
    },
    {
      "cell_type": "code",
      "source": [
        "tf.__version__"
      ],
      "metadata": {
        "colab": {
          "base_uri": "https://localhost:8080/",
          "height": 36
        },
        "id": "qIFdPYX5NEN3",
        "outputId": "f79519ea-128f-4202-81d1-be271a3a9abb"
      },
      "execution_count": 30,
      "outputs": [
        {
          "output_type": "execute_result",
          "data": {
            "text/plain": [
              "'2.12.0'"
            ],
            "application/vnd.google.colaboratory.intrinsic+json": {
              "type": "string"
            }
          },
          "metadata": {},
          "execution_count": 30
        }
      ]
    },
    {
      "cell_type": "code",
      "source": [
        "### Lets Do the prediction and check performance metrics\n",
        "train_predict=model.predict(X_train)\n",
        "test_predict=model.predict(X_test)"
      ],
      "metadata": {
        "colab": {
          "base_uri": "https://localhost:8080/"
        },
        "id": "Ea1P4nGWNGRG",
        "outputId": "4b53db54-0257-413a-b480-7c34e18d685f"
      },
      "execution_count": 31,
      "outputs": [
        {
          "output_type": "stream",
          "name": "stdout",
          "text": [
            "23/23 [==============================] - 2s 44ms/step\n",
            "11/11 [==============================] - 1s 42ms/step\n"
          ]
        }
      ]
    },
    {
      "cell_type": "code",
      "source": [
        "##Transformback to original form\n",
        "train_predict=scaler.inverse_transform(train_predict)\n",
        "test_predict=scaler.inverse_transform(test_predict)"
      ],
      "metadata": {
        "id": "AEKTASHtNJGZ"
      },
      "execution_count": 32,
      "outputs": []
    },
    {
      "cell_type": "code",
      "source": [
        "### Calculate RMSE performance metrics\n",
        "import math\n",
        "from sklearn.metrics import mean_squared_error\n",
        "math.sqrt(mean_squared_error(y_train,train_predict))"
      ],
      "metadata": {
        "colab": {
          "base_uri": "https://localhost:8080/"
        },
        "id": "xBDeydWcNLMW",
        "outputId": "ac9e40a6-0679-4b55-bdc1-d8964ff249b2"
      },
      "execution_count": 33,
      "outputs": [
        {
          "output_type": "execute_result",
          "data": {
            "text/plain": [
              "222.29403219797302"
            ]
          },
          "metadata": {},
          "execution_count": 33
        }
      ]
    },
    {
      "cell_type": "code",
      "source": [
        "### Test Data RMSE\n",
        "math.sqrt(mean_squared_error(ytest,test_predict))"
      ],
      "metadata": {
        "colab": {
          "base_uri": "https://localhost:8080/"
        },
        "id": "UkoIJUe9NMyy",
        "outputId": "b936cd06-4f7b-460c-c2bd-7b8167f8ce04"
      },
      "execution_count": 34,
      "outputs": [
        {
          "output_type": "execute_result",
          "data": {
            "text/plain": [
              "159.01215793444857"
            ]
          },
          "metadata": {},
          "execution_count": 34
        }
      ]
    },
    {
      "cell_type": "code",
      "source": [
        "### Plotting\n",
        "# shift train predictions for plotting\n",
        "look_back=100\n",
        "trainPredictPlot = numpy.empty_like(df1)\n",
        "trainPredictPlot[:, :] = np.nan\n",
        "trainPredictPlot[look_back:len(train_predict)+look_back, :] = train_predict\n",
        "# shift test predictions for plotting\n",
        "testPredictPlot = numpy.empty_like(df1)\n",
        "testPredictPlot[:, :] = numpy.nan\n",
        "testPredictPlot[len(train_predict)+(look_back*2)+1:len(df1)-1, :] = test_predict\n",
        "# plot baseline and predictions\n",
        "plt.plot(scaler.inverse_transform(df1))\n",
        "plt.plot(trainPredictPlot)\n",
        "plt.plot(testPredictPlot)\n",
        "plt.show()"
      ],
      "metadata": {
        "colab": {
          "base_uri": "https://localhost:8080/",
          "height": 430
        },
        "id": "HhXy6OMxNOZZ",
        "outputId": "fe1743bb-4ce6-4e9b-9a22-15189d0aa728"
      },
      "execution_count": 36,
      "outputs": [
        {
          "output_type": "display_data",
          "data": {
            "text/plain": [
              "<Figure size 640x480 with 1 Axes>"
            ],
            "image/png": "[encoded data removed]"
          },
          "metadata": {}
        }
      ]
    },
    {
      "cell_type": "code",
      "source": [
        "len(test_data)"
      ],
      "metadata": {
        "colab": {
          "base_uri": "https://localhost:8080/"
        },
        "id": "rxKOJH95NQpm",
        "outputId": "f2b5ec38-e17f-40b5-9393-e8183ffffc74"
      },
      "execution_count": 37,
      "outputs": [
        {
          "output_type": "execute_result",
          "data": {
            "text/plain": [
              "440"
            ]
          },
          "metadata": {},
          "execution_count": 37
        }
      ]
    },
    {
      "cell_type": "code",
      "source": [
        "x_input=test_data[341:].reshape(1,-1)\n",
        "x_input.shape"
      ],
      "metadata": {
        "colab": {
          "base_uri": "https://localhost:8080/"
        },
        "id": "ourUFhBMNTA5",
        "outputId": "0265004d-ed78-45fb-ff6a-fd63756752c1"
      },
      "execution_count": 38,
      "outputs": [
        {
          "output_type": "execute_result",
          "data": {
            "text/plain": [
              "(1, 99)"
            ]
          },
          "metadata": {},
          "execution_count": 38
        }
      ]
    },
    {
      "cell_type": "code",
      "source": [
        "temp_input=list(x_input)\n",
        "temp_input=temp_input[0].tolist()"
      ],
      "metadata": {
        "id": "TB02DUrJNjDt"
      },
      "execution_count": 39,
      "outputs": []
    },
    {
      "cell_type": "code",
      "source": [
        "temp_input"
      ],
      "metadata": {
        "colab": {
          "base_uri": "https://localhost:8080/"
        },
        "id": "jCjxJOPYNk6N",
        "outputId": "ed6c4480-f9d4-42da-eb68-98ea701d47af"
      },
      "execution_count": 40,
      "outputs": [
        {
          "output_type": "execute_result",
          "data": {
            "text/plain": [
              "[0.09665623043206006,\n",
              " 0.11015654351909826,\n",
              " 0.11937382592360674,\n",
              " 0.1124358171571696,\n",
              " 0.11974953036944269,\n",
              " 0.11291170945522849,\n",
              " 0.11028177833437691,\n",
              " 0.1106324358171571,\n",
              " 0.11774577332498432,\n",
              " 0.11611772072636184,\n",
              " 0.12145272385723233,\n",
              " 0.11739511584220413,\n",
              " 0.11448966812773947,\n",
              " 0.10429555416405756,\n",
              " 0.10537257357545393,\n",
              " 0.10659987476518468,\n",
              " 0.09986224170319347,\n",
              " 0.10289292423293667,\n",
              " 0.10161552911709448,\n",
              " 0.09635566687539132,\n",
              " 0.09785848465873509,\n",
              " 0.11068252974326859,\n",
              " 0.11769567939887288,\n",
              " 0.11211020663744514,\n",
              " 0.11529117094552283,\n",
              " 0.1095804633688165,\n",
              " 0.10434564809016905,\n",
              " 0.10927989981214775,\n",
              " 0.11458985597996241,\n",
              " 0.11559173450219157,\n",
              " 0.12275516593613017,\n",
              " 0.1206261740763932,\n",
              " 0.12663744520976827,\n",
              " 0.13134627426424544,\n",
              " 0.12771446462116465,\n",
              " 0.13046963055729488,\n",
              " 0.13377582968065116,\n",
              " 0.12884157795867246,\n",
              " 0.12726361928616153,\n",
              " 0.13507827175954912,\n",
              " 0.13906073888541015,\n",
              " 0.1454226675015654,\n",
              " 0.14860363180964303,\n",
              " 0.14725109580463364,\n",
              " 0.14256731371321218,\n",
              " 0.14482154038822787,\n",
              " 0.13823418910457103,\n",
              " 0.13515341264871633,\n",
              " 0.1334001252348152,\n",
              " 0.14707576706324355,\n",
              " 0.14619912335629304,\n",
              " 0.14624921728240442,\n",
              " 0.14935504070131495,\n",
              " 0.15226048841577955,\n",
              " 0.14980588603631806,\n",
              " 0.14572323105823415,\n",
              " 0.14649968691296178,\n",
              " 0.14259236067626796,\n",
              " 0.14256731371321218,\n",
              " 0.15421415153412643,\n",
              " 0.15739511584220411,\n",
              " 0.15716969317470253,\n",
              " 0.1545397620538509,\n",
              " 0.15180964308077638,\n",
              " 0.1476518472135253,\n",
              " 0.16713838447088286,\n",
              " 0.16696305572949277,\n",
              " 0.16262993112085156,\n",
              " 0.16710081402629928,\n",
              " 0.16758922980588598,\n",
              " 0.16463368816530988,\n",
              " 0.1633813400125234,\n",
              " 0.1633813400125234,\n",
              " 0.16493425172197868,\n",
              " 0.17084533500313087,\n",
              " 0.17112085159674384,\n",
              " 0.1687163431433938,\n",
              " 0.16210394489668123,\n",
              " 0.16280525986224165,\n",
              " 0.1656856606136506,\n",
              " 0.17179711959924854,\n",
              " 0.17648090169067,\n",
              " 0.17635566687539134,\n",
              " 0.1834690043832185,\n",
              " 0.1856230432060112,\n",
              " 0.18219160926737632,\n",
              " 0.18126487163431432,\n",
              " 0.1777833437695679,\n",
              " 0.18467125860989347,\n",
              " 0.18564809016906697,\n",
              " 0.19273638071383836,\n",
              " 0.1915341264871634,\n",
              " 0.19313713212273004,\n",
              " 0.19829680651221032,\n",
              " 0.1955666875391358,\n",
              " 0.1957921102066374,\n",
              " 0.1931621790857858,\n",
              " 0.2007764558547276,\n",
              " 0.19997495303694424]"
            ]
          },
          "metadata": {},
          "execution_count": 40
        }
      ]
    },
    {
      "cell_type": "code",
      "source": [
        "# demonstrate prediction for next 10 days\n",
        "from numpy import array\n",
        "\n",
        "lst_output=[]\n",
        "n_steps=100\n",
        "i=0\n",
        "while(i<30):\n",
        "\n",
        "    if(len(temp_input)>100):\n",
        "        #print(temp_input)\n",
        "        x_input=np.array(temp_input[1:])\n",
        "        print(\"{} day input {}\".format(i,x_input))\n",
        "        x_input=x_input.reshape(1,-1)\n",
        "        x_input = x_input.reshape((1, n_steps, 1))\n",
        "        #print(x_input)\n",
        "        yhat = model.predict(x_input, verbose=0)\n",
        "        print(\"{} day output {}\".format(i,yhat))\n",
        "        temp_input.extend(yhat[0].tolist())\n",
        "        temp_input=temp_input[1:]\n",
        "        #print(temp_input)\n",
        "        lst_output.extend(yhat.tolist())\n",
        "        i=i+1\n",
        "    else:\n",
        "        x_input = x_input.reshape((1, n_steps,1))\n",
        "        yhat = model.predict(x_input, verbose=0)\n",
        "        print(yhat[0])\n",
        "        temp_input.extend(yhat[0].tolist())\n",
        "        print(len(temp_input))\n",
        "        lst_output.extend(yhat.tolist())\n",
        "        i=i+1\n",
        "\n",
        "\n",
        "print(lst_output)"
      ],
      "metadata": {
        "colab": {
          "base_uri": "https://localhost:8080/",
          "height": 235
        },
        "id": "m5PkaLxnNmj4",
        "outputId": "35ef6913-7b11-4298-cd0f-cf92559719e8"
      },
      "execution_count": 41,
      "outputs": [
        {
          "output_type": "error",
          "ename": "ValueError",
          "evalue": "ignored",
          "traceback": [
            "\u001b[0;31m---------------------------------------------------------------------------\u001b[0m",
            "\u001b[0;31mValueError\u001b[0m                                Traceback (most recent call last)",
            "\u001b[0;32m<ipython-input-41-b8544ff16353>\u001b[0m in \u001b[0;36m<cell line: 7>\u001b[0;34m()\u001b[0m\n\u001b[1;32m     22\u001b[0m         \u001b[0mi\u001b[0m\u001b[0;34m=\u001b[0m\u001b[0mi\u001b[0m\u001b[0;34m+\u001b[0m\u001b[0;36m1\u001b[0m\u001b[0;34m\u001b[0m\u001b[0;34m\u001b[0m\u001b[0m\n\u001b[1;32m     23\u001b[0m     \u001b[0;32melse\u001b[0m\u001b[0;34m:\u001b[0m\u001b[0;34m\u001b[0m\u001b[0;34m\u001b[0m\u001b[0m\n\u001b[0;32m---> 24\u001b[0;31m         \u001b[0mx_input\u001b[0m \u001b[0;34m=\u001b[0m \u001b[0mx_input\u001b[0m\u001b[0;34m.\u001b[0m\u001b[0mreshape\u001b[0m\u001b[0;34m(\u001b[0m\u001b[0;34m(\u001b[0m\u001b[0;36m1\u001b[0m\u001b[0;34m,\u001b[0m \u001b[0mn_steps\u001b[0m\u001b[0;34m,\u001b[0m\u001b[0;36m1\u001b[0m\u001b[0;34m)\u001b[0m\u001b[0;34m)\u001b[0m\u001b[0;34m\u001b[0m\u001b[0;34m\u001b[0m\u001b[0m\n\u001b[0m\u001b[1;32m     25\u001b[0m         \u001b[0myhat\u001b[0m \u001b[0;34m=\u001b[0m \u001b[0mmodel\u001b[0m\u001b[0;34m.\u001b[0m\u001b[0mpredict\u001b[0m\u001b[0;34m(\u001b[0m\u001b[0mx_input\u001b[0m\u001b[0;34m,\u001b[0m \u001b[0mverbose\u001b[0m\u001b[0;34m=\u001b[0m\u001b[0;36m0\u001b[0m\u001b[0;34m)\u001b[0m\u001b[0;34m\u001b[0m\u001b[0;34m\u001b[0m\u001b[0m\n\u001b[1;32m     26\u001b[0m         \u001b[0mprint\u001b[0m\u001b[0;34m(\u001b[0m\u001b[0myhat\u001b[0m\u001b[0;34m[\u001b[0m\u001b[0;36m0\u001b[0m\u001b[0;34m]\u001b[0m\u001b[0;34m)\u001b[0m\u001b[0;34m\u001b[0m\u001b[0;34m\u001b[0m\u001b[0m\n",
            "\u001b[0;31mValueError\u001b[0m: cannot reshape array of size 99 into shape (1,100,1)"
          ]
        }
      ]
    },
    {
      "cell_type": "code",
      "source": [
        "day_new=np.arange(1,101)\n",
        "day_pred=np.arange(101,131)"
      ],
      "metadata": {
        "id": "8FtF_m4zNuB5"
      },
      "execution_count": 42,
      "outputs": []
    },
    {
      "cell_type": "code",
      "source": [
        "import matplotlib.pyplot as plt"
      ],
      "metadata": {
        "id": "fU9GOcm1Nudr"
      },
      "execution_count": 43,
      "outputs": []
    },
    {
      "cell_type": "code",
      "source": [
        "len(df1)"
      ],
      "metadata": {
        "colab": {
          "base_uri": "https://localhost:8080/"
        },
        "id": "uZ0lTTLONv2N",
        "outputId": "93c49137-5403-484d-ce16-883111579f6a"
      },
      "execution_count": 44,
      "outputs": [
        {
          "output_type": "execute_result",
          "data": {
            "text/plain": [
              "1257"
            ]
          },
          "metadata": {},
          "execution_count": 44
        }
      ]
    },
    {
      "cell_type": "code",
      "source": [
        "df3=df1.tolist()\n",
        "df3.extend(lst_output)\n",
        "plt.plot(df3[1200:])"
      ],
      "metadata": {
        "colab": {
          "base_uri": "https://localhost:8080/",
          "height": 447
        },
        "id": "fYvko1KTNyve",
        "outputId": "d833d813-e375-41f6-982f-28055cacde36"
      },
      "execution_count": 47,
      "outputs": [
        {
          "output_type": "execute_result",
          "data": {
            "text/plain": [
              "[<matplotlib.lines.Line2D at 0x7fc19ea72080>]"
            ]
          },
          "metadata": {},
          "execution_count": 47
        },
        {
          "output_type": "display_data",
          "data": {
            "text/plain": [
              "<Figure size 640x480 with 1 Axes>"
            ],
            "image/png": "[encoded data removed]"
          },
          "metadata": {}
        }
      ]
    },
    {
      "cell_type": "code",
      "source": [
        "df3=scaler.inverse_transform(df3).tolist()"
      ],
      "metadata": {
        "id": "tZzzywzbN03j"
      },
      "execution_count": 48,
      "outputs": []
    },
    {
      "cell_type": "code",
      "source": [
        "plt.plot(df3)"
      ],
      "metadata": {
        "colab": {
          "base_uri": "https://localhost:8080/",
          "height": 447
        },
        "id": "EtuVwb47N2bx",
        "outputId": "d144cd6f-538a-40d3-d4e8-bdbaddee75d8"
      },
      "execution_count": 49,
      "outputs": [
        {
          "output_type": "execute_result",
          "data": {
            "text/plain": [
              "[<matplotlib.lines.Line2D at 0x7fc197d61510>]"
            ]
          },
          "metadata": {},
          "execution_count": 49
        },
        {
          "output_type": "display_data",
          "data": {
            "text/plain": [
              "<Figure size 640x480 with 1 Axes>"
            ],
            "image/png": "[encoded data removed]"
          },
          "metadata": {}
        }
      ]
    },
    {
      "cell_type": "code",
      "source": [],
      "metadata": {
        "id": "dHz3NJ1XN4fe"
      },
      "execution_count": 46,
      "outputs": []
    }
  ]
}